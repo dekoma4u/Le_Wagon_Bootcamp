{
 "cells": [
  {
   "cell_type": "code",
   "execution_count": 31,
   "metadata": {},
   "outputs": [
    {
     "name": "stdout",
     "output_type": "stream",
     "text": [
      "['Happy Meal', 'French Fries', 'Sprite', 'Best Of McChicken']\n"
     ]
    },
    {
     "ename": "NameError",
     "evalue": "name 'list1' is not defined",
     "output_type": "error",
     "traceback": [
      "\u001b[1;31m---------------------------------------------------------------------------\u001b[0m",
      "\u001b[1;31mNameError\u001b[0m                                 Traceback (most recent call last)",
      "\u001b[1;32mc:\\Users\\ugook\\Dropbox\\Le_Wagon_Bootcamp\\trail.ipynb Cell 1'\u001b[0m in \u001b[0;36m<cell line: 39>\u001b[1;34m()\u001b[0m\n\u001b[0;32m     <a href='vscode-notebook-cell:/c%3A/Users/ugook/Dropbox/Le_Wagon_Bootcamp/trail.ipynb#ch0000000?line=35'>36</a>\u001b[0m     \u001b[39mreturn\u001b[39;00m carolies\n\u001b[0;32m     <a href='vscode-notebook-cell:/c%3A/Users/ugook/Dropbox/Le_Wagon_Bootcamp/trail.ipynb#ch0000000?line=37'>38</a>\u001b[0m list_main \u001b[39m=\u001b[39m [\u001b[39m\"\u001b[39m\u001b[39mHappy Meal\u001b[39m\u001b[39m\"\u001b[39m, \u001b[39m\"\u001b[39m\u001b[39mFrench Fries\u001b[39m\u001b[39m\"\u001b[39m, \u001b[39m\"\u001b[39m\u001b[39mSprite\u001b[39m\u001b[39m\"\u001b[39m, \u001b[39m\"\u001b[39m\u001b[39mBest Of McChicken\u001b[39m\u001b[39m\"\u001b[39m]\n\u001b[1;32m---> <a href='vscode-notebook-cell:/c%3A/Users/ugook/Dropbox/Le_Wagon_Bootcamp/trail.ipynb#ch0000000?line=38'>39</a>\u001b[0m \u001b[39mprint\u001b[39m(advanced_calories_counter(list_main))\n",
      "\u001b[1;32mc:\\Users\\ugook\\Dropbox\\Le_Wagon_Bootcamp\\trail.ipynb Cell 1'\u001b[0m in \u001b[0;36madvanced_calories_counter\u001b[1;34m(args1)\u001b[0m\n\u001b[0;32m     <a href='vscode-notebook-cell:/c%3A/Users/ugook/Dropbox/Le_Wagon_Bootcamp/trail.ipynb#ch0000000?line=22'>23</a>\u001b[0m all_meal \u001b[39m=\u001b[39m {\u001b[39m*\u001b[39m\u001b[39m*\u001b[39mhappy_meal, \u001b[39m*\u001b[39m\u001b[39m*\u001b[39mbest_mac, \u001b[39m*\u001b[39m\u001b[39m*\u001b[39mbest_chicken }\n\u001b[0;32m     <a href='vscode-notebook-cell:/c%3A/Users/ugook/Dropbox/Le_Wagon_Bootcamp/trail.ipynb#ch0000000?line=25'>26</a>\u001b[0m carolies \u001b[39m=\u001b[39m \u001b[39m0\u001b[39m\n\u001b[1;32m---> <a href='vscode-notebook-cell:/c%3A/Users/ugook/Dropbox/Le_Wagon_Bootcamp/trail.ipynb#ch0000000?line=27'>28</a>\u001b[0m \u001b[39mfor\u001b[39;00m value \u001b[39min\u001b[39;00m list1:\n\u001b[0;32m     <a href='vscode-notebook-cell:/c%3A/Users/ugook/Dropbox/Le_Wagon_Bootcamp/trail.ipynb#ch0000000?line=28'>29</a>\u001b[0m     \u001b[39mif\u001b[39;00m value \u001b[39min\u001b[39;00m all_meal:\n\u001b[0;32m     <a href='vscode-notebook-cell:/c%3A/Users/ugook/Dropbox/Le_Wagon_Bootcamp/trail.ipynb#ch0000000?line=29'>30</a>\u001b[0m         carolies\u001b[39m=\u001b[39m carolies \u001b[39m+\u001b[39m all_meal\u001b[39m.\u001b[39mget(value)\n",
      "\u001b[1;31mNameError\u001b[0m: name 'list1' is not defined"
     ]
    }
   ],
   "source": [
    "\"\"\"\n",
    "def advanced_calories_counter(args1):\n",
    "    happy_meal = {\n",
    "        \"Cheese Burger\" : 300,\n",
    "        \"French Fries\" : 230,\n",
    "        \"Coca Cola\" : 150\n",
    "    }\n",
    "    \n",
    "    best_mac = {\n",
    "        \"Big Mac\" : 540,\n",
    "        \"French Fries\" : 230,\n",
    "        \"Coca Cola\" : 150\n",
    "    }\n",
    "    \n",
    "    best_chicken = {\n",
    "        \"McChicken\" : 350,\n",
    "        \"Salad\" : 15,\n",
    "        \"Sprite\" : 150,\n",
    "    }\n",
    "    \n",
    "    #list1 = list1.append(args1)\n",
    "    #print(args1)\n",
    "    \n",
    "    all_meal = {**happy_meal, **best_mac, **best_chicken }\n",
    "\n",
    "    \n",
    "    carolies = 0\n",
    "    \n",
    "    for value in list1:\n",
    "        if value in all_meal:\n",
    "            carolies= carolies + all_meal.get(value)\n",
    "        else:\n",
    "            if value in all_meal:\n",
    "                add = sum(all_meal.values())   \n",
    "                return add\n",
    "        \n",
    "    return carolies\n",
    "\n",
    "list_main = [\"Happy Meal\", \"French Fries\", \"Sprite\", \"Best Of McChicken\"]\n",
    "print(advanced_calories_counter(list_main))\n",
    "\"\"\"\n"
   ]
  },
  {
   "cell_type": "code",
   "execution_count": 23,
   "metadata": {},
   "outputs": [
    {
     "name": "stdout",
     "output_type": "stream",
     "text": [
      "2115\n"
     ]
    }
   ],
   "source": [
    "\"\"\"\n",
    "MEALS = {\n",
    "    \"Happy Meal\": [\"Cheese Burger\", \"French Fries\", \"Coca Cola\"],\n",
    "    \"Best Of Big Mac\": [\"Big Mac\", \"French Fries\", \"Coca Cola\"],\n",
    "    \"Best of McChicken\": [\"McChicken\", \"Salad\", \"Sprite\"]\n",
    "}\n",
    "\n",
    "MENU = {\n",
    "    \"Hamburger\": 250,\n",
    "    \"Cheese Burger\": 300,\n",
    "    \"Big Mac\": 540,\n",
    "    \"McChicken\": 350,\n",
    "    \"French Fries\": 230,\n",
    "    \"Salad\": 15,\n",
    "    \"Coca Cola\": 150,\n",
    "    \"Sprite\": 150\n",
    "}\n",
    "\n",
    "def advanced_calories_counter(meals):\n",
    "    cals = 0\n",
    "    for meal in meals:\n",
    "        # return \"not found\" if the meal is neither in MEALS or MENU\n",
    "        if not MENU.get(meal) and not MEALS.get(meal): \n",
    "            return f\"{meal} not found\"\n",
    "\n",
    "        if MENU.get(meal):\n",
    "          cals += MENU.get(meal)\n",
    "        else:\n",
    "          cals += sum([MENU.get(item) for item in MEALS.get(meal)])\n",
    "    return cals\n",
    "\n",
    "print(advanced_calories_counter(\"Happy Meal\", \"French Fries\", \"Sprite\", \"Best Of McChicken\"))\n",
    "\"\"\""
   ]
  },
  {
   "cell_type": "code",
   "execution_count": 117,
   "metadata": {},
   "outputs": [
    {
     "data": {
      "text/plain": [
       "1600"
      ]
     },
     "execution_count": 117,
     "metadata": {},
     "output_type": "execute_result"
    }
   ],
   "source": [
    "MEALS = {\n",
    "    \"Happy Meal\" : [\"Cheese Burger\", \"French Fries\", \"Coca Cola\"],\n",
    "    \"Best of Big Mac\" : [\"Big Mac\", \"French fries\", \"Coca Cola\"],\n",
    "    \"Best of McChicken\" : [\"McChicken\", \"Salad\", \"Sprite\"]\n",
    "}\n",
    "Foods_calories = {\n",
    "        \"McChicken\" : 350,\n",
    "        \"French Fries\" : 230,\n",
    "        \"Sprite\" : 150,\n",
    "        \"Hamburger\" : 250,\n",
    "        \"Cheese Burger\" : 300,\n",
    "        \"Big Mac\" : 540,\n",
    "        \"Salad\" : 15,\n",
    "        \"Coca Cola\" : 150\n",
    "    }\n",
    "def advanced_calories_counter(orders):\n",
    "    counter = 0\n",
    "    list_keys = []\n",
    "    for value in orders:\n",
    "        if value in MEALS.keys():\n",
    "            meal_key = 0\n",
    "            key_list= MEALS[value]\n",
    "            #print(key_list)\n",
    "            for new in key_list:\n",
    "                #print(new)\n",
    "                if new in Foods_calories.keys():\n",
    "                    meal_key += Foods_calories[new]\n",
    "        elif value in Foods_calories.keys():\n",
    "            #print(value)\n",
    "            counter += Foods_calories[value]\n",
    "        else:\n",
    "            return f\"{value} not found\"\n",
    "    return meal_key+ counter\n",
    "                \n",
    "\n",
    "\n",
    "order = [\"Big Mac\", \"French Fries\", \"Happy Meal\", \"Coca Cola\"]\n",
    "advanced_calories_counter(order)\n",
    "order = [\"Big Mac\", \"Salad\", \"Happy Meal\", \"Salad\"]\n"
   ]
  },
  {
   "cell_type": "code",
   "execution_count": null,
   "metadata": {},
   "outputs": [],
   "source": []
  }
 ],
 "metadata": {
  "kernelspec": {
   "display_name": "Python 3.10.4 64-bit",
   "language": "python",
   "name": "python3"
  },
  "language_info": {
   "codemirror_mode": {
    "name": "ipython",
    "version": 3
   },
   "file_extension": ".py",
   "mimetype": "text/x-python",
   "name": "python",
   "nbconvert_exporter": "python",
   "pygments_lexer": "ipython3",
   "version": "3.10.4"
  },
  "orig_nbformat": 4,
  "vscode": {
   "interpreter": {
    "hash": "2d487116a31eb3ceb7b1a12e6d10885428bcb41492e68b3710237587f2151dbc"
   }
  }
 },
 "nbformat": 4,
 "nbformat_minor": 2
}

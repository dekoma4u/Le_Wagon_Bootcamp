{
 "cells": [
  {
   "cell_type": "code",
   "execution_count": 286,
   "metadata": {},
   "outputs": [
    {
     "name": "stdout",
     "output_type": "stream",
     "text": [
      "<class 'tuple'>\n"
     ]
    }
   ],
   "source": [
    "print(type((3,4)))\n",
    "\n"
   ]
  },
  {
   "cell_type": "code",
   "execution_count": 287,
   "metadata": {},
   "outputs": [
    {
     "name": "stdout",
     "output_type": "stream",
     "text": [
      "My name is Ugoo. I am 34 years old.\n"
     ]
    }
   ],
   "source": [
    "age = 25\n",
    "print(f\"My name is Ugoo. I am {age +9} years old.\")"
   ]
  },
  {
   "cell_type": "code",
   "execution_count": 288,
   "metadata": {},
   "outputs": [
    {
     "name": "stdout",
     "output_type": "stream",
     "text": [
      "<class 'str'>\n"
     ]
    }
   ],
   "source": [
    "age = \"25\"\n",
    "print (type(age))\n"
   ]
  },
  {
   "cell_type": "code",
   "execution_count": 289,
   "metadata": {},
   "outputs": [
    {
     "name": "stdout",
     "output_type": "stream",
     "text": [
      "<class 'int'>\n"
     ]
    }
   ],
   "source": [
    "print(type(int(age)))"
   ]
  },
  {
   "cell_type": "code",
   "execution_count": 290,
   "metadata": {},
   "outputs": [
    {
     "name": "stdout",
     "output_type": "stream",
     "text": [
      "12\n"
     ]
    }
   ],
   "source": [
    "print(len(\"Hello class!\"))"
   ]
  },
  {
   "cell_type": "code",
   "execution_count": 291,
   "metadata": {},
   "outputs": [
    {
     "name": "stdout",
     "output_type": "stream",
     "text": [
      "2\n"
     ]
    }
   ],
   "source": [
    "print(1 +1)"
   ]
  },
  {
   "cell_type": "code",
   "execution_count": 292,
   "metadata": {},
   "outputs": [
    {
     "name": "stdout",
     "output_type": "stream",
     "text": [
      "3.3333333333333335\n"
     ]
    }
   ],
   "source": [
    "print(10/3)"
   ]
  },
  {
   "cell_type": "code",
   "execution_count": 293,
   "metadata": {},
   "outputs": [
    {
     "name": "stdout",
     "output_type": "stream",
     "text": [
      "3\n"
     ]
    }
   ],
   "source": [
    "print(10//3)"
   ]
  },
  {
   "cell_type": "code",
   "execution_count": 294,
   "metadata": {},
   "outputs": [
    {
     "name": "stdout",
     "output_type": "stream",
     "text": [
      "<class 'str'>\n"
     ]
    }
   ],
   "source": [
    "print(type(str(12)))"
   ]
  },
  {
   "cell_type": "code",
   "execution_count": 295,
   "metadata": {},
   "outputs": [
    {
     "name": "stdout",
     "output_type": "stream",
     "text": [
      "12\n"
     ]
    }
   ],
   "source": [
    "print(round(12.4))"
   ]
  },
  {
   "cell_type": "code",
   "execution_count": 296,
   "metadata": {},
   "outputs": [
    {
     "name": "stdout",
     "output_type": "stream",
     "text": [
      "None\n"
     ]
    }
   ],
   "source": [
    "print(None)"
   ]
  },
  {
   "cell_type": "code",
   "execution_count": 297,
   "metadata": {},
   "outputs": [
    {
     "name": "stdout",
     "output_type": "stream",
     "text": [
      "13\n"
     ]
    }
   ],
   "source": [
    "age = 12\n",
    "age = age +1\n",
    "print(age )"
   ]
  },
  {
   "cell_type": "code",
   "execution_count": 298,
   "metadata": {},
   "outputs": [
    {
     "name": "stdout",
     "output_type": "stream",
     "text": [
      "Hi Ugoo.\n",
      "Hi Emeka.\n",
      "Hi Adah.\n"
     ]
    }
   ],
   "source": [
    "def mine(name):\n",
    "    return f\"Hi {name}.\"\n",
    "print(mine(\"Ugoo\"))\n",
    "print(mine(\"Emeka\"))\n",
    "print(mine(\"Adah\"))"
   ]
  },
  {
   "cell_type": "code",
   "execution_count": 299,
   "metadata": {},
   "outputs": [
    {
     "name": "stdout",
     "output_type": "stream",
     "text": [
      "Ugoo Ezekoma\n"
     ]
    }
   ],
   "source": [
    "def full_name(first_name, last_name):\n",
    "    name = first_name.capitalize() + \" \" + last_name.capitalize()\n",
    "    return name\n",
    "print(full_name(\"ugoo\", \"ezekoma\"))"
   ]
  },
  {
   "cell_type": "code",
   "execution_count": 300,
   "metadata": {},
   "outputs": [
    {
     "name": "stdout",
     "output_type": "stream",
     "text": [
      "Ugoo Ezekoma\n"
     ]
    }
   ],
   "source": [
    "def full_name(first_name, last_name):\n",
    "    name = first_name.capitalize() + \" \" + last_name.capitalize()\n",
    "    return name\n",
    "#print(full_name(\"ugoo\", \"ezekoma\"))\n",
    "first_name = input(\"Type first name: \\n\")\n",
    "last_name = input(\"Type last name: \")\n",
    "print(full_name(first_name, last_name))\n"
   ]
  },
  {
   "cell_type": "code",
   "execution_count": 301,
   "metadata": {},
   "outputs": [
    {
     "name": "stdout",
     "output_type": "stream",
     "text": [
      "Yes,the age; 34 is mature. You can vote\n"
     ]
    }
   ],
   "source": [
    "age = 34\n",
    "if age >= 18:\n",
    "    print(f\"Yes,the age; {age} is mature. You can vote\")"
   ]
  },
  {
   "cell_type": "code",
   "execution_count": 302,
   "metadata": {},
   "outputs": [],
   "source": [
    "is_nice = True\n",
    "state = \"nice\" if is_nice else \"not nice\""
   ]
  },
  {
   "cell_type": "code",
   "execution_count": 303,
   "metadata": {},
   "outputs": [
    {
     "name": "stdout",
     "output_type": "stream",
     "text": [
      "True\n",
      "False\n",
      "False\n",
      "True\n",
      "True\n",
      "True\n"
     ]
    }
   ],
   "source": [
    "def is_divide_by(number, a, b):\n",
    "    if number % a == 0 and number % b == 0:\n",
    "        return True\n",
    "    else: \n",
    "        return False\n",
    "print(is_divide_by(-12, 2, -6))\n",
    "print(is_divide_by(-12, 2, -5))\n",
    "print(is_divide_by(45, 1, 6))\n",
    "print(is_divide_by(45, 5, 15))\n",
    "print(is_divide_by(4, 1, 4))\n",
    "print(is_divide_by(15, -5, 3))"
   ]
  },
  {
   "cell_type": "code",
   "execution_count": 304,
   "metadata": {},
   "outputs": [
    {
     "name": "stdout",
     "output_type": "stream",
     "text": [
      "Hello, John!\n",
      "Hello, Alice!\n",
      "Hello, World!\n"
     ]
    }
   ],
   "source": [
    "def hello(name):\n",
    "    return f\"Hello, {name.capitalize()}!\"\n",
    "\n",
    "def hello1(name = \" \"):\n",
    "    return f\"Hello, World!\"\n",
    "\n",
    "print(hello(\"john\"))\n",
    "print(hello(\"aLICE\"))\n",
    "print(hello1(\" \"))\n",
    "\n"
   ]
  },
  {
   "cell_type": "code",
   "execution_count": 305,
   "metadata": {},
   "outputs": [
    {
     "name": "stdout",
     "output_type": "stream",
     "text": [
      "Hello, John!\n",
      "Hello, Alice!\n",
      "Hello, World!\n"
     ]
    }
   ],
   "source": [
    "def hello(name):\n",
    "    if len(name) <= 1:\n",
    "        return f\"Hello, World!\"\n",
    "    else: \n",
    "        return f\"Hello, {name.capitalize()}!\"\n",
    "\n",
    "print(hello(\"john\"))\n",
    "print(hello(\"aLICE\"))\n",
    "print(hello(\"\"))"
   ]
  },
  {
   "cell_type": "code",
   "execution_count": 306,
   "metadata": {},
   "outputs": [
    {
     "name": "stdout",
     "output_type": "stream",
     "text": [
      "Hello, John!\n",
      "Hello, Alice!\n",
      "Hello, World!\n"
     ]
    }
   ],
   "source": [
    "def hello(name=''):\n",
    "    return f\"Hello, {name.capitalize() or 'World'}!\"\n",
    "\n",
    "print(hello(\"john\"))\n",
    "print(hello(\"aLICE\"))\n",
    "print(hello(\"\"))"
   ]
  },
  {
   "cell_type": "code",
   "execution_count": 307,
   "metadata": {},
   "outputs": [
    {
     "name": "stdout",
     "output_type": "stream",
     "text": [
      "32\n",
      "9\n"
     ]
    }
   ],
   "source": [
    "#Create a method with the length and width\n",
    "def area_or_perimeter(l , w):\n",
    "    if l == w:                      # Create a condition with the length and width\n",
    "        return l * w                #Use return to execute a function is condition is met\n",
    "    else:\n",
    "        return (l + w) * 2          #next action if the initial condition is not met\n",
    "    \n",
    "print(area_or_perimeter(6,10))      #Use the method to call interact between the arguments and the parameters\n",
    "print(area_or_perimeter(3,3))"
   ]
  },
  {
   "cell_type": "code",
   "execution_count": 308,
   "metadata": {},
   "outputs": [
    {
     "name": "stdout",
     "output_type": "stream",
     "text": [
      "1\n"
     ]
    }
   ],
   "source": [
    "from math import *\n",
    "def litres(time):\n",
    "    return floor(time * 0.5)\n",
    "print(litres(3))        \n",
    "    "
   ]
  },
  {
   "cell_type": "code",
   "execution_count": 309,
   "metadata": {},
   "outputs": [
    {
     "name": "stdout",
     "output_type": "stream",
     "text": [
      "False\n",
      "True\n",
      "False\n",
      "True\n",
      "False\n",
      "True\n"
     ]
    }
   ],
   "source": [
    "def is_uppercase(inp):\n",
    "    if inp == inp.upper():\n",
    "        return True\n",
    "    else: \n",
    "        return False\n",
    "print(is_uppercase(\"c\"))\n",
    "print(is_uppercase(\"C\"))\n",
    "print(is_uppercase(\"hello I AM DONALD\"))\n",
    "print(is_uppercase(\"HELLO I AM DONALD\"))\n",
    "print(is_uppercase(\"ACSKLDFJSgSKLDFJSKLDFJ\"))\n",
    "print(is_uppercase(\"ACSKLDFJSGSKLDFJSKLDFJD\"))"
   ]
  },
  {
   "cell_type": "code",
   "execution_count": 310,
   "metadata": {},
   "outputs": [
    {
     "name": "stdout",
     "output_type": "stream",
     "text": [
      "I AM GOING TO WORK RIGHT NOW!\n"
     ]
    }
   ],
   "source": [
    "print(\"I am going to work right now!\".upper())"
   ]
  },
  {
   "cell_type": "code",
   "execution_count": 311,
   "metadata": {},
   "outputs": [
    {
     "name": "stdout",
     "output_type": "stream",
     "text": [
      "EBUKA\n"
     ]
    }
   ],
   "source": [
    "attendee_name = \"Ebuka\"\n",
    "if attendee_name.isupper() == False:\n",
    "\tattendee_name = attendee_name.upper()\n",
    "\tprint(attendee_name)\n",
    "else:\n",
    "\tprint(\"This attendee's name is already in uppercase.\")\n",
    "\tprint(attendee_name)"
   ]
  },
  {
   "cell_type": "code",
   "execution_count": 312,
   "metadata": {},
   "outputs": [
    {
     "name": "stdout",
     "output_type": "stream",
     "text": [
      "I don't care, get dressed and go to work!\n",
      "Silly question, get dressed and go to work!\n",
      "I don't care, get dressed and go to work!\n"
     ]
    }
   ],
   "source": [
    "def coach_answer(your_message):\n",
    "    if \"?\" not in your_message:\n",
    "        coach1 = \"I don't care, get dressed and go to work!\" \n",
    "        return str(coach1)\n",
    "    elif \"?\" in your_message:\n",
    "        coach2 = \"Silly question, get dressed and go to work!\"\n",
    "        return str(coach2)\n",
    "    else: \n",
    "        \"I am going to work right now!\" == your_message\n",
    "        coach3 = \" \"\n",
    "        return str(coach3)\n",
    "            \n",
    "print(coach_answer(\"I met a girl last night\"))\n",
    "print(coach_answer(\"Can I eat some pizza?\"))\n",
    "print(coach_answer(\"I am going to work right now!\"))\n"
   ]
  },
  {
   "cell_type": "code",
   "execution_count": 313,
   "metadata": {},
   "outputs": [
    {
     "name": "stdout",
     "output_type": "stream",
     "text": [
      "I don't care, get dressed and go to work!\n",
      "Silly question, get dressed and go to work!\n",
      "I don't care, get dressed and go to work!\n"
     ]
    }
   ],
   "source": [
    "\n",
    "# Implement your coach_answer_enhanced below:\n",
    "def coach_answer_enhanced(your_message):\n",
    "    if \"?\" not in your_message and your_message.isupper() == False:\n",
    "        coach1 = \"I don't care, get dressed and go to work!\"\n",
    "        return str(coach1)\n",
    "    elif \"?\" in your_message and your_message.isupper() == False:\n",
    "        coach2 = \"Silly question, get dressed and go to work!\"\n",
    "        return str(coach2)\n",
    "    else: \n",
    "        \"I am going to work right now!\" == your_message and your_message.isupper() == False\n",
    "        coach3 = \" \"\n",
    "        if len(coach3) >= 1:\n",
    "            return str(coach3)\n",
    "  \n",
    "print(coach_answer_enhanced(\"I met a girl last night\"))\n",
    "print(coach_answer_enhanced(\"Can I eat some pizza?\"))\n",
    "print(coach_answer_enhanced(\"I am going to work right now!\"))\n",
    "\n",
    "\n",
    "#print(coach_answer_enhanced(\"I am going to work right now!\".upper())) \n",
    "\n",
    " #   if \"?\" not in your_message and your_message.isupper() == True:\n",
    "  #      coach = \"I can feel your motivation!\"\n",
    "   #     return str(coach)"
   ]
  },
  {
   "cell_type": "code",
   "execution_count": 314,
   "metadata": {},
   "outputs": [
    {
     "name": "stdout",
     "output_type": "stream",
     "text": [
      "I don't care, get dressed and go to work!\n",
      "Silly question, get dressed and go to work!\n",
      "\n"
     ]
    }
   ],
   "source": [
    "def coach_answer(your_message):\n",
    "    if your_message == \"I am going to work right now!\":\n",
    "        return \"\"\n",
    "    if your_message.endswith(\"?\"):\n",
    "        return \"Silly question, get dressed and go to work!\"\n",
    "    return \"I don't care, get dressed and go to work!\"\n",
    "\n",
    "\n",
    "def coach_answer_enhanced(your_message):\n",
    "    if your_message == \"I AM GOING TO WORK RIGHT NOW!\":\n",
    "        return \"\"\n",
    "    if your_message.isupper():\n",
    "        return \"I can feel your motivation! \" + coach_answer(your_message)\n",
    "    return coach_answer(your_message)\n",
    "\n",
    "print(coach_answer_enhanced(\"I met a girl last night\"))\n",
    "print(coach_answer_enhanced(\"Can I eat some pizza?\"))\n",
    "print(coach_answer_enhanced(\"I am going to work right now!\"))"
   ]
  },
  {
   "cell_type": "code",
   "execution_count": 315,
   "metadata": {},
   "outputs": [
    {
     "name": "stdout",
     "output_type": "stream",
     "text": [
      "3\n"
     ]
    }
   ],
   "source": [
    "b = \"123\"\n",
    "print(len(b))"
   ]
  },
  {
   "cell_type": "code",
   "execution_count": 316,
   "metadata": {},
   "outputs": [
    {
     "name": "stdout",
     "output_type": "stream",
     "text": [
      "None\n"
     ]
    }
   ],
   "source": [
    "def is_colorful(c_num):\n",
    "    new_list = [int(x) for x in str(c_num)]       \n",
    "    #print(new_list)\n",
    "    size = (len(new_list))\n",
    "    if size == 1:\n",
    "        return \"Yes\"\n",
    "\n",
    "\n",
    "\n",
    "print(is_colorful(263))\n"
   ]
  },
  {
   "cell_type": "code",
   "execution_count": 317,
   "metadata": {},
   "outputs": [
    {
     "name": "stdout",
     "output_type": "stream",
     "text": [
      "True\n",
      "False\n"
     ]
    }
   ],
   "source": [
    "#This is my solution: \n",
    "    #It looks simple but it works i guess. \n",
    "    \n",
    "def is_colorful(c_num):\n",
    "    new_list = [int(x) for x in str(c_num)]\n",
    "    first = new_list[0]\n",
    "    second = new_list[1]\n",
    "    third = new_list[2]\n",
    "    new_list.append(first * second)\n",
    "    new_list.append(second * third)\n",
    "    new_list.append(first * second * third)\n",
    "    if len(set(new_list)) == len(new_list):\n",
    "        return True\n",
    "    else:\n",
    "        return False\n",
    "    \n",
    "    \n",
    "    \n",
    "print(is_colorful(263))\n",
    "print(is_colorful(236))"
   ]
  },
  {
   "cell_type": "code",
   "execution_count": 449,
   "metadata": {},
   "outputs": [
    {
     "name": "stdout",
     "output_type": "stream",
     "text": [
      "[2, 6, 3]\n",
      "[2, 6, 3, 12]\n",
      "[2, 6, 3, 12, 18]\n",
      "[2, 6, 3, 12, 18, 36]\n",
      "True\n",
      "[2, 3, 6]\n",
      "[2, 3, 6, 6]\n",
      "[2, 3, 6, 6, 18]\n",
      "[2, 3, 6, 6, 18, 36]\n",
      "False\n"
     ]
    }
   ],
   "source": [
    "def is_colorful(c_num):\n",
    "    new_list = [int(x) for x in str(c_num)]\n",
    "    size = len(new_list)\n",
    "    if size == 1:\n",
    "        return True\n",
    "    \n",
    "    for i in range(size):\n",
    "        new_list.append(new_list[i] * new_list[i +1])\n",
    "        print(new_list)\n",
    "    return len(set(new_list)) == len(new_list)\n",
    "\n",
    "print(is_colorful(263))\n",
    "print(is_colorful(236))"
   ]
  },
  {
   "cell_type": "code",
   "execution_count": 319,
   "metadata": {},
   "outputs": [
    {
     "name": "stdout",
     "output_type": "stream",
     "text": [
      "True\n",
      "False\n",
      "True\n"
     ]
    }
   ],
   "source": [
    "def colorful(number):\n",
    "    digits = [int(x) for x in str(number)]\n",
    "    size = len(digits)\n",
    "    # check if it's a 1-digit number\n",
    "    if size == 1:\n",
    "        return True\n",
    "\n",
    "    for i in range(size - 1):\n",
    "        digits.append(digits[i] * digits[i + 1])\n",
    "    return len(set(digits)) == len(digits)\n",
    "\n",
    "\n",
    "# This solution will only work for numbers with 1, 2 or 3 digits\n",
    "def is_colorful(num):\n",
    "    n_str = str(num)\n",
    "\n",
    "    if len(n_str) == 1:\n",
    "      return True\n",
    "    if len(n_str) == 3:\n",
    "        n1 = int(n_str[0])\n",
    "        n2 = int(n_str[1])\n",
    "        n3 = int(n_str[2])\n",
    "        new_list = [n1, n2, n3, n1*n2, n2*n3, n1*n2*n3]\n",
    "        return len(set(new_list)) == 6\n",
    "    if len(n_str) == 2:\n",
    "        n1 = int(n_str[0])\n",
    "        n2 = int(n_str[1])\n",
    "        new_list = [n1, n2, n1*n2]\n",
    "        return len(set(new_list)) == 3\n",
    "\n",
    "if __name__ == '__main__':\n",
    "    print(is_colorful(1))\n",
    "    print(is_colorful(22))\n",
    "    print(is_colorful(245))"
   ]
  },
  {
   "cell_type": "code",
   "execution_count": 320,
   "metadata": {},
   "outputs": [
    {
     "data": {
      "text/plain": [
       "['ringo', 'john']"
      ]
     },
     "execution_count": 320,
     "metadata": {},
     "output_type": "execute_result"
    }
   ],
   "source": [
    "beatles = [\"ringo\", \"george\", \"john\"]\n",
    "del beatles[1]\n",
    "beatles"
   ]
  },
  {
   "cell_type": "code",
   "execution_count": 321,
   "metadata": {},
   "outputs": [
    {
     "data": {
      "text/plain": [
       "['ringo', 'john', 'george', 'ringo']"
      ]
     },
     "execution_count": 321,
     "metadata": {},
     "output_type": "execute_result"
    }
   ],
   "source": [
    "beatles.append(\"george\")\n",
    "beatles\n",
    "beatles.append(\"ringo\")\n",
    "beatles"
   ]
  },
  {
   "cell_type": "code",
   "execution_count": 322,
   "metadata": {},
   "outputs": [
    {
     "data": {
      "text/plain": [
       "{'george', 'john', 'ringo'}"
      ]
     },
     "execution_count": 322,
     "metadata": {},
     "output_type": "execute_result"
    }
   ],
   "source": [
    "set(beatles)"
   ]
  },
  {
   "cell_type": "code",
   "execution_count": 333,
   "metadata": {},
   "outputs": [
    {
     "data": {
      "text/plain": [
       "['ringo', 'george', 'john', 'Danar']"
      ]
     },
     "execution_count": 333,
     "metadata": {},
     "output_type": "execute_result"
    }
   ],
   "source": [
    "beatles = ['ringo', 'george', 'john', 'Danar']\n",
    "beatles"
   ]
  },
  {
   "cell_type": "code",
   "execution_count": 334,
   "metadata": {},
   "outputs": [
    {
     "data": {
      "text/plain": [
       "['Danar', 'george', 'john', 'ringo']"
      ]
     },
     "execution_count": 334,
     "metadata": {},
     "output_type": "execute_result"
    }
   ],
   "source": [
    "sorted(beatles)"
   ]
  },
  {
   "cell_type": "code",
   "execution_count": 335,
   "metadata": {},
   "outputs": [
    {
     "data": {
      "text/plain": [
       "['ringo', 'george', 'john', 'Danar']"
      ]
     },
     "execution_count": 335,
     "metadata": {},
     "output_type": "execute_result"
    }
   ],
   "source": [
    "beatles"
   ]
  },
  {
   "cell_type": "code",
   "execution_count": 336,
   "metadata": {},
   "outputs": [
    {
     "data": {
      "text/plain": [
       "['Danar', 'george', 'john', 'ringo']"
      ]
     },
     "execution_count": 336,
     "metadata": {},
     "output_type": "execute_result"
    }
   ],
   "source": [
    "beatles.sort()\n",
    "beatles"
   ]
  },
  {
   "cell_type": "code",
   "execution_count": 337,
   "metadata": {},
   "outputs": [
    {
     "data": {
      "text/plain": [
       "['Danar', 'george', 'john', 'ringo']"
      ]
     },
     "execution_count": 337,
     "metadata": {},
     "output_type": "execute_result"
    }
   ],
   "source": [
    "beatles"
   ]
  },
  {
   "cell_type": "code",
   "execution_count": 341,
   "metadata": {},
   "outputs": [
    {
     "name": "stdout",
     "output_type": "stream",
     "text": [
      " The staff is Ringo and has the loop number 1\n",
      " The staff is George and has the loop number 2\n",
      " The staff is John and has the loop number 3\n",
      " The staff is Danar and has the loop number 4\n"
     ]
    }
   ],
   "source": [
    "staff = ['ringo', 'george', 'john', 'Danar']\n",
    "tracker = 1\n",
    "for staff_member in staff:\n",
    "    \n",
    "    print(f\" The staff is {staff_member.capitalize()} and has the loop number {tracker}\")\n",
    "    tracker = tracker + 1"
   ]
  },
  {
   "cell_type": "code",
   "execution_count": null,
   "metadata": {},
   "outputs": [],
   "source": []
  },
  {
   "cell_type": "code",
   "execution_count": 353,
   "metadata": {},
   "outputs": [
    {
     "name": "stdout",
     "output_type": "stream",
     "text": [
      "1.  Ringo\n",
      "2.  George\n",
      "3.  John\n",
      "4.  Danar\n"
     ]
    }
   ],
   "source": [
    "staff = ['ringo', 'george', 'john', 'Danar']\n",
    "for position, staff_member in enumerate(staff):\n",
    "    print(f\"{position +1}.  {staff_member.capitalize()}\")"
   ]
  },
  {
   "cell_type": "code",
   "execution_count": 355,
   "metadata": {},
   "outputs": [
    {
     "data": {
      "text/plain": [
       "['ringo', 'george', 'john', 'Danar']"
      ]
     },
     "execution_count": 355,
     "metadata": {},
     "output_type": "execute_result"
    }
   ],
   "source": [
    "enumerate(staff)\n",
    "staff"
   ]
  },
  {
   "cell_type": "code",
   "execution_count": 367,
   "metadata": {},
   "outputs": [
    {
     "name": "stdout",
     "output_type": "stream",
     "text": [
      "['ringo', 'george', 'john', 'Danar']\n"
     ]
    }
   ],
   "source": [
    "staff = ['ringo', 'george', 'john', 'Danar']\n",
    "list = [staff_member for index, staff_member in enumerate(staff)]\n",
    "print(list)"
   ]
  },
  {
   "cell_type": "code",
   "execution_count": 378,
   "metadata": {},
   "outputs": [
    {
     "data": {
      "text/plain": [
       "<enumerate at 0x164e8bd9e80>"
      ]
     },
     "execution_count": 378,
     "metadata": {},
     "output_type": "execute_result"
    }
   ],
   "source": [
    "staff = ['ringo', 'george', 'john', 'Danar']\n",
    "l_staff = enumerate(staff)\n",
    "l_staff"
   ]
  },
  {
   "cell_type": "code",
   "execution_count": null,
   "metadata": {},
   "outputs": [
    {
     "name": "stdout",
     "output_type": "stream",
     "text": [
      "<class 'tuple'>\n"
     ]
    }
   ],
   "source": [
    "print(type((3,4)))\n",
    "\n"
   ]
  },
  {
   "cell_type": "code",
   "execution_count": null,
   "metadata": {},
   "outputs": [
    {
     "name": "stdout",
     "output_type": "stream",
     "text": [
      "My name is Ugoo. I am 34 years old.\n"
     ]
    }
   ],
   "source": [
    "age = 25\n",
    "print(f\"My name is Ugoo. I am {age +9} years old.\")"
   ]
  },
  {
   "cell_type": "code",
   "execution_count": null,
   "metadata": {},
   "outputs": [
    {
     "name": "stdout",
     "output_type": "stream",
     "text": [
      "<class 'str'>\n"
     ]
    }
   ],
   "source": [
    "age = \"25\"\n",
    "print (type(age))\n"
   ]
  },
  {
   "cell_type": "code",
   "execution_count": null,
   "metadata": {},
   "outputs": [
    {
     "name": "stdout",
     "output_type": "stream",
     "text": [
      "<class 'int'>\n"
     ]
    }
   ],
   "source": [
    "print(type(int(age)))"
   ]
  },
  {
   "cell_type": "code",
   "execution_count": null,
   "metadata": {},
   "outputs": [
    {
     "name": "stdout",
     "output_type": "stream",
     "text": [
      "12\n"
     ]
    }
   ],
   "source": [
    "print(len(\"Hello class!\"))"
   ]
  },
  {
   "cell_type": "code",
   "execution_count": null,
   "metadata": {},
   "outputs": [
    {
     "name": "stdout",
     "output_type": "stream",
     "text": [
      "2\n"
     ]
    }
   ],
   "source": [
    "print(1 +1)"
   ]
  },
  {
   "cell_type": "code",
   "execution_count": null,
   "metadata": {},
   "outputs": [
    {
     "name": "stdout",
     "output_type": "stream",
     "text": [
      "3.3333333333333335\n"
     ]
    }
   ],
   "source": [
    "print(10/3)"
   ]
  },
  {
   "cell_type": "code",
   "execution_count": null,
   "metadata": {},
   "outputs": [
    {
     "name": "stdout",
     "output_type": "stream",
     "text": [
      "3\n"
     ]
    }
   ],
   "source": [
    "print(10//3)"
   ]
  },
  {
   "cell_type": "code",
   "execution_count": null,
   "metadata": {},
   "outputs": [
    {
     "name": "stdout",
     "output_type": "stream",
     "text": [
      "<class 'str'>\n"
     ]
    }
   ],
   "source": [
    "print(type(str(12)))"
   ]
  },
  {
   "cell_type": "code",
   "execution_count": null,
   "metadata": {},
   "outputs": [
    {
     "name": "stdout",
     "output_type": "stream",
     "text": [
      "12\n"
     ]
    }
   ],
   "source": [
    "print(round(12.4))"
   ]
  },
  {
   "cell_type": "code",
   "execution_count": null,
   "metadata": {},
   "outputs": [
    {
     "name": "stdout",
     "output_type": "stream",
     "text": [
      "None\n"
     ]
    }
   ],
   "source": [
    "print(None)"
   ]
  },
  {
   "cell_type": "code",
   "execution_count": null,
   "metadata": {},
   "outputs": [
    {
     "name": "stdout",
     "output_type": "stream",
     "text": [
      "13\n"
     ]
    }
   ],
   "source": [
    "age = 12\n",
    "age = age +1\n",
    "print(age )"
   ]
  },
  {
   "cell_type": "code",
   "execution_count": null,
   "metadata": {},
   "outputs": [
    {
     "name": "stdout",
     "output_type": "stream",
     "text": [
      "Hi Ugoo.\n",
      "Hi Emeka.\n",
      "Hi Adah.\n"
     ]
    }
   ],
   "source": [
    "def mine(name):\n",
    "    return f\"Hi {name}.\"\n",
    "print(mine(\"Ugoo\"))\n",
    "print(mine(\"Emeka\"))\n",
    "print(mine(\"Adah\"))"
   ]
  },
  {
   "cell_type": "code",
   "execution_count": null,
   "metadata": {},
   "outputs": [
    {
     "name": "stdout",
     "output_type": "stream",
     "text": [
      "Ugoo Ezekoma\n"
     ]
    }
   ],
   "source": [
    "def full_name(first_name, last_name):\n",
    "    name = first_name.capitalize() + \" \" + last_name.capitalize()\n",
    "    return name\n",
    "print(full_name(\"ugoo\", \"ezekoma\"))"
   ]
  },
  {
   "cell_type": "code",
   "execution_count": null,
   "metadata": {},
   "outputs": [
    {
     "name": "stdout",
     "output_type": "stream",
     "text": [
      "Ugoo Ezekoma\n"
     ]
    }
   ],
   "source": [
    "def full_name(first_name, last_name):\n",
    "    name = first_name.capitalize() + \" \" + last_name.capitalize()\n",
    "    return name\n",
    "#print(full_name(\"ugoo\", \"ezekoma\"))\n",
    "first_name = input(\"Type first name: \\n\")\n",
    "last_name = input(\"Type last name: \")\n",
    "print(full_name(first_name, last_name))\n"
   ]
  },
  {
   "cell_type": "code",
   "execution_count": null,
   "metadata": {},
   "outputs": [
    {
     "name": "stdout",
     "output_type": "stream",
     "text": [
      "Yes,the age; 34 is mature. You can vote\n"
     ]
    }
   ],
   "source": [
    "age = 34\n",
    "if age >= 18:\n",
    "    print(f\"Yes,the age; {age} is mature. You can vote\")"
   ]
  },
  {
   "cell_type": "code",
   "execution_count": null,
   "metadata": {},
   "outputs": [],
   "source": [
    "is_nice = True\n",
    "state = \"nice\" if is_nice else \"not nice\""
   ]
  },
  {
   "cell_type": "code",
   "execution_count": null,
   "metadata": {},
   "outputs": [
    {
     "name": "stdout",
     "output_type": "stream",
     "text": [
      "True\n",
      "False\n",
      "False\n",
      "True\n",
      "True\n",
      "True\n"
     ]
    }
   ],
   "source": [
    "def is_divide_by(number, a, b):\n",
    "    if number % a == 0 and number % b == 0:\n",
    "        return True\n",
    "    else: \n",
    "        return False\n",
    "print(is_divide_by(-12, 2, -6))\n",
    "print(is_divide_by(-12, 2, -5))\n",
    "print(is_divide_by(45, 1, 6))\n",
    "print(is_divide_by(45, 5, 15))\n",
    "print(is_divide_by(4, 1, 4))\n",
    "print(is_divide_by(15, -5, 3))"
   ]
  },
  {
   "cell_type": "code",
   "execution_count": null,
   "metadata": {},
   "outputs": [
    {
     "name": "stdout",
     "output_type": "stream",
     "text": [
      "Hello, John!\n",
      "Hello, Alice!\n",
      "Hello, World!\n"
     ]
    }
   ],
   "source": [
    "def hello(name):\n",
    "    return f\"Hello, {name.capitalize()}!\"\n",
    "\n",
    "def hello1(name = \" \"):\n",
    "    return f\"Hello, World!\"\n",
    "\n",
    "print(hello(\"john\"))\n",
    "print(hello(\"aLICE\"))\n",
    "print(hello1(\" \"))\n",
    "\n"
   ]
  },
  {
   "cell_type": "code",
   "execution_count": null,
   "metadata": {},
   "outputs": [
    {
     "name": "stdout",
     "output_type": "stream",
     "text": [
      "32\n",
      "9\n"
     ]
    }
   ],
   "source": [
    "#Create a method with the length and width\n",
    "def area_or_perimeter(l , w):\n",
    "    if l == w:                      # Create a condition with the length and width\n",
    "        return l * w                #Use return to execute a function is condition is met\n",
    "    else:\n",
    "        return (l + w) * 2          #next action if the initial condition is not met\n",
    "    \n",
    "print(area_or_perimeter(6,10))      #Use the method to call interact between the arguments and the parameters\n",
    "print(area_or_perimeter(3,3))"
   ]
  },
  {
   "cell_type": "markdown",
   "metadata": {},
   "source": []
  },
  {
   "cell_type": "code",
   "execution_count": 392,
   "metadata": {},
   "outputs": [
    {
     "ename": "SyntaxError",
     "evalue": "did you forget parentheses around the comprehension target? (3003753952.py, line 2)",
     "output_type": "error",
     "traceback": [
      "\u001b[1;36m  Input \u001b[1;32mIn [392]\u001b[1;36m\u001b[0m\n\u001b[1;33m    numbered = [index + 1, letter for letter in enumerate(list)]\u001b[0m\n\u001b[1;37m                ^\u001b[0m\n\u001b[1;31mSyntaxError\u001b[0m\u001b[1;31m:\u001b[0m did you forget parentheses around the comprehension target?\n"
     ]
    }
   ],
   "source": [
    "list = [\"a\", \"b\", \"c\"]\n",
    "numbered = [index + 1, letter for letter in enumerate(list)]\n",
    "numbered.upper()\n",
    "real\n"
   ]
  },
  {
   "cell_type": "code",
   "execution_count": 487,
   "metadata": {},
   "outputs": [
    {
     "data": {
      "text/plain": [
       "['1: a', '2: b', '3: c']"
      ]
     },
     "execution_count": 487,
     "metadata": {},
     "output_type": "execute_result"
    }
   ],
   "source": [
    "list = [\"a\", \"b\", \"c\"]\n",
    "la = [\"{}: {}\".format(index+1, letter) for index, letter in enumerate(list)]\n",
    "la"
   ]
  },
  {
   "cell_type": "code",
   "execution_count": 436,
   "metadata": {},
   "outputs": [
    {
     "name": "stdout",
     "output_type": "stream",
     "text": [
      "Edureka is a good option for beginners in python\n"
     ]
    }
   ],
   "source": [
    "print(\"{} is a good option for beginners in python\".format(\"Edureka\"))"
   ]
  },
  {
   "cell_type": "code",
   "execution_count": 442,
   "metadata": {},
   "outputs": [
    {
     "name": "stdout",
     "output_type": "stream",
     "text": [
      "Ebenebe is a good man\n"
     ]
    }
   ],
   "source": [
    "print('{} is a good man'.format(\"Ebenebe\"))"
   ]
  },
  {
   "cell_type": "code",
   "execution_count": 443,
   "metadata": {},
   "outputs": [
    {
     "name": "stdout",
     "output_type": "stream",
     "text": [
      "['1:a']\n",
      "['1:b']\n",
      "['1:c']\n"
     ]
    }
   ],
   "source": [
    "def number(lines):\n",
    "    bc = [\"{}:{}\".format(index+1, num) for index, num in enumerate(lines)]\n",
    "    return bc\n",
    "    \n",
    "print(number(\"a\"))\n",
    "print(number(\"b\"))\n",
    "print(number(\"c\"))"
   ]
  },
  {
   "cell_type": "code",
   "execution_count": 497,
   "metadata": {},
   "outputs": [
    {
     "name": "stdout",
     "output_type": "stream",
     "text": [
      "['1:a']\n",
      "['1:a', '2:b']\n",
      "['1:a', '2:b', '3:c']\n"
     ]
    }
   ],
   "source": [
    "cd = []\n",
    "def number(lines):\n",
    "    cd.append(lines)\n",
    "    bc = [\"{}:{}\".format(index+1, num) for index, num in enumerate(cd)]\n",
    "    return bc\n",
    "    \n",
    "print(number(\"a\"))\n",
    "print(number(\"b\"))\n",
    "print(number(\"c\"))"
   ]
  },
  {
   "cell_type": "code",
   "execution_count": 500,
   "metadata": {},
   "outputs": [
    {
     "name": "stdout",
     "output_type": "stream",
     "text": [
      "['1: a']\n",
      "['1: b']\n",
      "['1: c']\n"
     ]
    }
   ],
   "source": [
    "def number(lines):\n",
    "    la = [\"{}: {}\".format(index+1, num) for index, num in enumerate(lines)]\n",
    "    return la\n",
    "print(number(\"a\"))\n",
    "print(number(\"b\"))\n",
    "print(number(\"c\"))"
   ]
  },
  {
   "cell_type": "code",
   "execution_count": 537,
   "metadata": {},
   "outputs": [
    {
     "name": "stdout",
     "output_type": "stream",
     "text": [
      "2.5\n"
     ]
    }
   ],
   "source": [
    "def simple_calculator(arguments1, arguments2, arguments3):\n",
    "\n",
    "    arguments1 = float(arguments1)\n",
    "    arguments2 = str(arguments2)\n",
    "    arguments3 = float(arguments3)\n",
    "    \n",
    "    #Makes a list of the arguments\n",
    "    check = [arguments1, arguments2, arguments3]\n",
    "    \n",
    "    #Checks if inputs are complete\n",
    "    if len(check) != 3:\n",
    "        return 'Please enter valid format: [Operand, Operator, Operand]'\n",
    "\n",
    "\n",
    "    if arguments2 == '+':\n",
    "        return arguments1 + arguments3\n",
    "    elif arguments2 == '-':\n",
    "        return arguments1 - arguments3\n",
    "    elif arguments2 == '*':\n",
    "        return arguments1 * arguments3\n",
    "    elif arguments2 == '/':\n",
    "        return arguments1 / arguments3\n",
    "    elif arguments2 == '%':\n",
    "        return arguments1 % arguments3\n",
    "    else:\n",
    "        return 'Please enter a valid operator [ +, -, /, *, %]'\n",
    "\n",
    "\n",
    "#if __name__ == '__main__':\n",
    " #   print(simple_calculator(['1', '+', '1']))\n",
    "\n",
    "inp1 = input(\"Enter the first operand\")\n",
    "inp2 = input(\"Enter the operator\")\n",
    "inp3 = input(\"Enter the second operand\")\n",
    "print(simple_calculator(inp1, inp2, inp3))\n",
    "\n"
   ]
  },
  {
   "cell_type": "code",
   "execution_count": 610,
   "metadata": {},
   "outputs": [
    {
     "name": "stdout",
     "output_type": "stream",
     "text": [
      "[1, 2, 'Fizz', 4, 'Buzz', 'Fizz', 7, 8, 'Fizz', 'Buzz', 11, 'Fizz', 13, 14, 'FizzBuzz']\n"
     ]
    }
   ],
   "source": [
    "bc = []\n",
    "def fizz_buzz(a):\n",
    "    for i in range(1, a+1):\n",
    "        if i % 3 == 0 and i % 5 == 0:\n",
    "            bc.append('FizzBuzz')\n",
    "            continue\n",
    "        elif i % 3 == 0:\n",
    "            bc.append('Fizz')\n",
    "            continue\n",
    "        elif i % 5 == 0:\n",
    "            bc.append('Buzz')\n",
    "            continue\n",
    "        else:\n",
    "            bc.append(i)\n",
    "    return bc\n",
    "#d = input(\"Enter a number\")\n",
    "print(fizz_buzz(15))"
   ]
  },
  {
   "cell_type": "code",
   "execution_count": 671,
   "metadata": {},
   "outputs": [
    {
     "name": "stdout",
     "output_type": "stream",
     "text": [
      "The shuffled list : \n",
      " [['apple', 'mango', 'berry', 'banana', 'Avacado', 'paw-paw']] \n",
      "\n",
      "This is the original list : \n",
      " ['apple', 'mango', 'berry', 'banana', 'Avacado', 'paw-paw']. \n"
     ]
    }
   ],
   "source": [
    "import random\n",
    "new_list = []\n",
    "def manual_shuffle(list1):\n",
    "    for elements in list1:\n",
    "        random.shuffle(list1)\n",
    "        new_list.append(list1)\n",
    "        \n",
    "        #print(len(new_list))\n",
    "        #print(len(list1.copy()))\n",
    "        \n",
    "        if len(new_list) == len(set(list1.copy())):\n",
    "           print(\"Yes, its complete\")\n",
    "        return f\"The shuffled list : \\n {new_list} \\n\"\n",
    "    \n",
    "p_list = [\"apple\", \"mango\", \"berry\", \"Avacado\", \"paw-paw\", \"banana\"]\n",
    "print(manual_shuffle(p_list))\n",
    "print(f\"This is the original list : \\n {p_list.copy()}. \")\n"
   ]
  },
  {
   "cell_type": "code",
   "execution_count": 687,
   "metadata": {},
   "outputs": [
    {
     "name": "stdout",
     "output_type": "stream",
     "text": [
      "Yes the lists are equal\n",
      "The shuffled list : \n",
      " ['apple', 'Avacado', 'mango', 'banana', 'paw-paw', 'berry'] \n",
      "\n"
     ]
    }
   ],
   "source": [
    "import random\n",
    "def manual_shuffle(list1):\n",
    "    new_list = []\n",
    "    main_list = list1.copy()\n",
    "    for elements in range(len(main_list)):\n",
    "        #random.shuffle(main_list)\n",
    "        #new_list.append(elements)\n",
    "        dense = random.randint(0, len(main_list)-1)\n",
    "        new_list.append(main_list.pop(dense))\n",
    "        if len(new_list) == len(set(main_list)):\n",
    "            print( \"Yes the lists are equal\")\n",
    "    return f\"The shuffled list : \\n {new_list} \\n\"\n",
    "    \n",
    "p_list = [\"apple\", \"mango\", \"berry\", \"Avacado\", \"paw-paw\", \"banana\"]\n",
    "print(manual_shuffle(p_list))\n",
    "#print(f\"This is the original list : \\n {p_list.copy()}. \")"
   ]
  },
  {
   "cell_type": "code",
   "execution_count": 712,
   "metadata": {},
   "outputs": [
    {
     "name": "stdout",
     "output_type": "stream",
     "text": [
      "Peter: is 24 years old\n",
      "Mary: is 32 years old\n",
      "Jesus: is 22 years old\n",
      "Frank: is 30 years old\n",
      "Ugoo: is 27 years old\n"
     ]
    }
   ],
   "source": [
    "\n",
    "students = [\"Peter\", \"Mary\", \"Jesus\", \"Frank\", \"Ugoo\"]\n",
    "student_ages = [24, 32, 22, 30, 27]\n",
    "for  index, student in enumerate(students):\n",
    "    age = student_ages[index]\n",
    "    print(\"{}: is {} years old\".format(student, age))"
   ]
  },
  {
   "cell_type": "code",
   "execution_count": 770,
   "metadata": {},
   "outputs": [
    {
     "name": "stdout",
     "output_type": "stream",
     "text": [
      "0: Peter\n",
      "1: Mary\n",
      "2: Jesus\n",
      "3: Frank\n",
      "4: Ugoo\n"
     ]
    }
   ],
   "source": [
    "students = [\"Peter\", \"Mary\", \"Jesus\", \"Frank\", \"Ugoo\"]\n",
    "for index, img in enumerate(students):\n",
    "    print(f\"{index}: {img}\")"
   ]
  },
  {
   "cell_type": "code",
   "execution_count": 728,
   "metadata": {},
   "outputs": [
    {
     "data": {
      "text/plain": [
       "{'Germany': 'Berlin', 'USA': 'Washington DC', 'Nigeria': 'Abuja'}"
      ]
     },
     "execution_count": 728,
     "metadata": {},
     "output_type": "execute_result"
    }
   ],
   "source": [
    "country = {\"Germany\": \"Berlin\", \"USA\": \"Washington DC\", \"Nigeria\": \"Abuja\"}\n",
    "country"
   ]
  },
  {
   "cell_type": "code",
   "execution_count": 729,
   "metadata": {},
   "outputs": [
    {
     "data": {
      "text/plain": [
       "'Abuja'"
      ]
     },
     "execution_count": 729,
     "metadata": {},
     "output_type": "execute_result"
    }
   ],
   "source": [
    "country[\"Nigeria\"]"
   ]
  },
  {
   "cell_type": "code",
   "execution_count": 730,
   "metadata": {},
   "outputs": [
    {
     "data": {
      "text/plain": [
       "{'Germany': 'Berlin', 'USA': 'Washington DC', 'Nigeria': 'Abuja'}"
      ]
     },
     "execution_count": 730,
     "metadata": {},
     "output_type": "execute_result"
    }
   ],
   "source": [
    "country"
   ]
  },
  {
   "cell_type": "code",
   "execution_count": 732,
   "metadata": {},
   "outputs": [
    {
     "data": {
      "text/plain": [
       "{'Germany': 'Berlin',\n",
       " 'USA': 'Washington DC',\n",
       " 'Nigeria': 'Abuja',\n",
       " 'Canada': 'Ontario'}"
      ]
     },
     "execution_count": 732,
     "metadata": {},
     "output_type": "execute_result"
    }
   ],
   "source": [
    "country[\"Canada\"] = \"Ontario\"\n",
    "country"
   ]
  },
  {
   "cell_type": "code",
   "execution_count": 733,
   "metadata": {},
   "outputs": [],
   "source": [
    "country[\"Canada\"] = \"Toronto\""
   ]
  },
  {
   "cell_type": "code",
   "execution_count": 734,
   "metadata": {},
   "outputs": [
    {
     "data": {
      "text/plain": [
       "{'Germany': 'Berlin',\n",
       " 'USA': 'Washington DC',\n",
       " 'Nigeria': 'Abuja',\n",
       " 'Canada': 'Toronto'}"
      ]
     },
     "execution_count": 734,
     "metadata": {},
     "output_type": "execute_result"
    }
   ],
   "source": [
    "country"
   ]
  },
  {
   "cell_type": "code",
   "execution_count": 746,
   "metadata": {},
   "outputs": [],
   "source": [
    "country[\"Population\"] = 8_564_890"
   ]
  },
  {
   "cell_type": "code",
   "execution_count": 747,
   "metadata": {},
   "outputs": [
    {
     "data": {
      "text/plain": [
       "{'Germany': 'Berlin',\n",
       " 'USA': 'Washington DC',\n",
       " 'Nigeria': 'Abuja',\n",
       " 'Canada': 'Toronto',\n",
       " 'Population': 8564890}"
      ]
     },
     "execution_count": 747,
     "metadata": {},
     "output_type": "execute_result"
    }
   ],
   "source": [
    "country"
   ]
  },
  {
   "cell_type": "code",
   "execution_count": 748,
   "metadata": {},
   "outputs": [],
   "source": [
    "country[\"Population\"] -= 1"
   ]
  },
  {
   "cell_type": "code",
   "execution_count": 749,
   "metadata": {},
   "outputs": [
    {
     "data": {
      "text/plain": [
       "{'Germany': 'Berlin',\n",
       " 'USA': 'Washington DC',\n",
       " 'Nigeria': 'Abuja',\n",
       " 'Canada': 'Toronto',\n",
       " 'Population': 8564889}"
      ]
     },
     "execution_count": 749,
     "metadata": {},
     "output_type": "execute_result"
    }
   ],
   "source": [
    "country"
   ]
  },
  {
   "cell_type": "code",
   "execution_count": 750,
   "metadata": {},
   "outputs": [],
   "source": [
    "del country[\"Population\"]"
   ]
  },
  {
   "cell_type": "code",
   "execution_count": 751,
   "metadata": {},
   "outputs": [
    {
     "data": {
      "text/plain": [
       "{'Germany': 'Berlin',\n",
       " 'USA': 'Washington DC',\n",
       " 'Nigeria': 'Abuja',\n",
       " 'Canada': 'Toronto'}"
      ]
     },
     "execution_count": 751,
     "metadata": {},
     "output_type": "execute_result"
    }
   ],
   "source": [
    "country"
   ]
  },
  {
   "cell_type": "code",
   "execution_count": 752,
   "metadata": {},
   "outputs": [
    {
     "data": {
      "text/plain": [
       "dict_keys(['Germany', 'USA', 'Nigeria', 'Canada'])"
      ]
     },
     "execution_count": 752,
     "metadata": {},
     "output_type": "execute_result"
    }
   ],
   "source": [
    "country.keys()"
   ]
  },
  {
   "cell_type": "code",
   "execution_count": 753,
   "metadata": {},
   "outputs": [
    {
     "data": {
      "text/plain": [
       "dict_values(['Berlin', 'Washington DC', 'Abuja', 'Toronto'])"
      ]
     },
     "execution_count": 753,
     "metadata": {},
     "output_type": "execute_result"
    }
   ],
   "source": [
    "country.values()"
   ]
  },
  {
   "cell_type": "code",
   "execution_count": 755,
   "metadata": {},
   "outputs": [
    {
     "name": "stdout",
     "output_type": "stream",
     "text": [
      "Berlin\n",
      "Washington DC\n",
      "Abuja\n",
      "Toronto\n"
     ]
    }
   ],
   "source": [
    "for keys in country:\n",
    "    print(country[key])"
   ]
  },
  {
   "cell_type": "code",
   "execution_count": 756,
   "metadata": {},
   "outputs": [
    {
     "name": "stdout",
     "output_type": "stream",
     "text": [
      "Berlin\n",
      "Washington DC\n",
      "Abuja\n",
      "Toronto\n"
     ]
    }
   ],
   "source": [
    "for values in country:\n",
    "    print(country[values])"
   ]
  },
  {
   "cell_type": "code",
   "execution_count": 761,
   "metadata": {},
   "outputs": [
    {
     "name": "stdout",
     "output_type": "stream",
     "text": [
      "Berlin\n",
      "Washington DC\n",
      "Abuja\n",
      "Toronto\n"
     ]
    }
   ],
   "source": [
    "\n",
    "for val in country.values():\n",
    "    print(val)"
   ]
  },
  {
   "cell_type": "code",
   "execution_count": 762,
   "metadata": {},
   "outputs": [
    {
     "name": "stdout",
     "output_type": "stream",
     "text": [
      "Germany\n",
      "USA\n",
      "Nigeria\n",
      "Canada\n"
     ]
    }
   ],
   "source": [
    "for key in country.keys():\n",
    "    print(key)"
   ]
  },
  {
   "cell_type": "code",
   "execution_count": 763,
   "metadata": {},
   "outputs": [
    {
     "name": "stdout",
     "output_type": "stream",
     "text": [
      "Germany ==> Berlin\n",
      "USA ==> Washington DC\n",
      "Nigeria ==> Abuja\n",
      "Canada ==> Toronto\n"
     ]
    }
   ],
   "source": [
    "for key, value in country.items():\n",
    "    print(f\"{key} ==> {value}\")"
   ]
  },
  {
   "cell_type": "code",
   "execution_count": 764,
   "metadata": {},
   "outputs": [
    {
     "data": {
      "text/plain": [
       "4"
      ]
     },
     "execution_count": 764,
     "metadata": {},
     "output_type": "execute_result"
    }
   ],
   "source": [
    "len(country)"
   ]
  },
  {
   "cell_type": "code",
   "execution_count": 765,
   "metadata": {},
   "outputs": [
    {
     "ename": "KeyError",
     "evalue": "'Dancer'",
     "output_type": "error",
     "traceback": [
      "\u001b[1;31m---------------------------------------------------------------------------\u001b[0m",
      "\u001b[1;31mKeyError\u001b[0m                                  Traceback (most recent call last)",
      "\u001b[1;32mc:\\Users\\ugook\\Dropbox\\Le_Wagon_Bootcamp\\bc_practice.ipynb Cell 102'\u001b[0m in \u001b[0;36m<cell line: 1>\u001b[1;34m()\u001b[0m\n\u001b[1;32m----> <a href='vscode-notebook-cell:/c%3A/Users/ugook/Dropbox/Le_Wagon_Bootcamp/bc_practice.ipynb#ch0000125?line=0'>1</a>\u001b[0m country[\u001b[39m\"\u001b[39;49m\u001b[39mDancer\u001b[39;49m\u001b[39m\"\u001b[39;49m]\n",
      "\u001b[1;31mKeyError\u001b[0m: 'Dancer'"
     ]
    }
   ],
   "source": [
    "country[\"Dancer\"]"
   ]
  },
  {
   "cell_type": "code",
   "execution_count": 766,
   "metadata": {},
   "outputs": [
    {
     "data": {
      "text/plain": [
       "'Unfortunately not available'"
      ]
     },
     "execution_count": 766,
     "metadata": {},
     "output_type": "execute_result"
    }
   ],
   "source": [
    "country.get(\"Dancer\", \"Unfortunately not available\")"
   ]
  },
  {
   "cell_type": "code",
   "execution_count": 767,
   "metadata": {},
   "outputs": [
    {
     "data": {
      "text/plain": [
       "'Abuja'"
      ]
     },
     "execution_count": 767,
     "metadata": {},
     "output_type": "execute_result"
    }
   ],
   "source": [
    "country.get(\"Nigeria\", \"Too bad\")"
   ]
  },
  {
   "cell_type": "code",
   "execution_count": 774,
   "metadata": {},
   "outputs": [
    {
     "name": "stdout",
     "output_type": "stream",
     "text": [
      "Peter 24\n",
      "Mary 32\n",
      "Jesus 22\n",
      "Frank 30\n",
      "Ugoo 27\n"
     ]
    }
   ],
   "source": [
    "students = [\"Peter\", \"Mary\", \"Jesus\", \"Frank\", \"Ugoo\"]\n",
    "student_ages = [24, 32, 22, 30, 27]\n",
    "for key, value in zip(students, student_ages):\n",
    "    \n",
    "    print(key, value)"
   ]
  },
  {
   "cell_type": "code",
   "execution_count": 783,
   "metadata": {},
   "outputs": [
    {
     "data": {
      "text/plain": [
       "{'Peter': 24, 'Mary': 32, 'Jesus': 22, 'Frank': 30, 'Ugoo': 27}"
      ]
     },
     "execution_count": 783,
     "metadata": {},
     "output_type": "execute_result"
    }
   ],
   "source": [
    "\n",
    "students_colla = {}\n",
    "for key, value in zip(students, student_ages):\n",
    "    students_colla[key] = value\n",
    "    #print(students_colla)\n",
    "students_colla\n"
   ]
  },
  {
   "cell_type": "code",
   "execution_count": 787,
   "metadata": {},
   "outputs": [
    {
     "data": {
      "text/plain": [
       "{'Peter': 24, 'Mary': 32, 'Jesus': 22, 'Frank': 30, 'Ugoo': 27}"
      ]
     },
     "execution_count": 787,
     "metadata": {},
     "output_type": "execute_result"
    }
   ],
   "source": [
    "student_comp = {key: value for key, value in zip(students, student_ages)}\n",
    "student_comp"
   ]
  },
  {
   "cell_type": "code",
   "execution_count": 796,
   "metadata": {},
   "outputs": [
    {
     "data": {
      "text/plain": [
       "{'jack': 4098, 'sape': 4139, 'guido': 4127}"
      ]
     },
     "execution_count": 796,
     "metadata": {},
     "output_type": "execute_result"
    }
   ],
   "source": [
    "tel = {'jack': 4098, 'sape': 4139}\n",
    "tel['guido'] = 4127\n",
    "tel"
   ]
  },
  {
   "cell_type": "code",
   "execution_count": 795,
   "metadata": {},
   "outputs": [
    {
     "data": {
      "text/plain": [
       "4098"
      ]
     },
     "execution_count": 795,
     "metadata": {},
     "output_type": "execute_result"
    }
   ],
   "source": [
    "tel[\"jack\"]"
   ]
  },
  {
   "cell_type": "code",
   "execution_count": 797,
   "metadata": {},
   "outputs": [],
   "source": [
    "del tel[\"sape\"]"
   ]
  },
  {
   "cell_type": "code",
   "execution_count": 798,
   "metadata": {},
   "outputs": [
    {
     "data": {
      "text/plain": [
       "{'jack': 4098, 'guido': 4127}"
      ]
     },
     "execution_count": 798,
     "metadata": {},
     "output_type": "execute_result"
    }
   ],
   "source": [
    "tel"
   ]
  },
  {
   "cell_type": "code",
   "execution_count": 799,
   "metadata": {},
   "outputs": [
    {
     "data": {
      "text/plain": [
       "{'jack': 4098, 'guido': 4127, 'Ivy': 'saga'}"
      ]
     },
     "execution_count": 799,
     "metadata": {},
     "output_type": "execute_result"
    }
   ],
   "source": [
    "tel[\"Ivy\"] = \"saga\"\n",
    "tel"
   ]
  },
  {
   "cell_type": "code",
   "execution_count": 806,
   "metadata": {},
   "outputs": [
    {
     "name": "stdout",
     "output_type": "stream",
     "text": [
      "['jack', 'guido', 'Ivy']\n"
     ]
    }
   ],
   "source": [
    "tally = [key for key in tel.keys()]\n",
    "print(tally)"
   ]
  },
  {
   "cell_type": "code",
   "execution_count": 908,
   "metadata": {},
   "outputs": [
    {
     "name": "stdout",
     "output_type": "stream",
     "text": [
      "0\n",
      "['a']\n",
      "['b']\n",
      "None\n",
      "['a']\n",
      "None\n",
      "['i']\n",
      "['i']\n",
      "['i']\n",
      "['i']\n",
      "['i']\n",
      "None\n",
      "['i']\n",
      "['i']\n",
      "['i']\n",
      "['i']\n",
      "['i']\n",
      "['s']\n",
      "None\n",
      "['1']\n",
      "None\n",
      "['B']\n",
      "['A']\n",
      "None\n"
     ]
    }
   ],
   "source": [
    "def duplicate_count(check):\n",
    "    if len(check) == len(set(check)) :\n",
    "        return 0\n",
    "    new_list = []\n",
    "    for i in check:\n",
    "        if i not in new_list:\n",
    "            new_list.append(i)\n",
    "            #print(new_list)\n",
    "        else:\n",
    "            diff = []\n",
    "            diff.append(i)\n",
    "            o_diff = [e for e in diff]\n",
    "            print(o_diff)\n",
    "\n",
    "            #return \n",
    "    \n",
    "print(duplicate_count(\"abcde\"))\n",
    "print(duplicate_count(\"aabbcde\"))\n",
    "print(duplicate_count(\"aabBcde\"))\n",
    "print(duplicate_count(\"indivisibility\"))\n",
    "print(duplicate_count(\"Indivisibilities\"))\n",
    "print(duplicate_count(\"aA11\"))\n",
    "print(duplicate_count(\"ABBA\"))"
   ]
  },
  {
   "cell_type": "code",
   "execution_count": 894,
   "metadata": {},
   "outputs": [
    {
     "name": "stdout",
     "output_type": "stream",
     "text": [
      "\n",
      "There are 4 reoccurring characters.\n",
      "\t\"c\" occurs 3 times.\n",
      "\t\"e\" occurs 5 times.\n",
      "\t\"g\" occurs 2 times.\n",
      "\t\"3\" occurs 2 times.\n"
     ]
    }
   ],
   "source": [
    "def duplicate_count (text) :\n",
    "    total = 0\n",
    "    duplicates = {}\n",
    "    for character in text.lower () :\n",
    "        if character in duplicates :\n",
    "            duplicates [character] += 1\n",
    "            if duplicates [character] < 3 :\n",
    "                total += 1\n",
    "        else :\n",
    "            duplicates [character] = 1\n",
    " \n",
    "    print (f'\\nThere are {total} reoccurring characters.')\n",
    "    for element in duplicates :\n",
    "        if duplicates [element] > 1 :\n",
    "            print (f'\\t\"{element}\" occurs {duplicates [element]} times.')\n",
    " \n",
    "duplicate_count ('abCccdeeEEefgg12334')"
   ]
  },
  {
   "cell_type": "code",
   "execution_count": 906,
   "metadata": {},
   "outputs": [
    {
     "name": "stdout",
     "output_type": "stream",
     "text": [
      "[1, 2, 3, 4, 5, 6, 7, 8, 9, 10]\n"
     ]
    }
   ],
   "source": [
    "bb = [1,2,3,4,5,6,7,8,9,10]\n",
    "bb = [i for i in bb]\n",
    "print(bb)\n",
    "\n"
   ]
  },
  {
   "cell_type": "code",
   "execution_count": 909,
   "metadata": {},
   "outputs": [],
   "source": [
    "a = b = c = 5\n"
   ]
  },
  {
   "cell_type": "code",
   "execution_count": 910,
   "metadata": {},
   "outputs": [
    {
     "data": {
      "text/plain": [
       "5"
      ]
     },
     "execution_count": 910,
     "metadata": {},
     "output_type": "execute_result"
    }
   ],
   "source": [
    "a"
   ]
  },
  {
   "cell_type": "code",
   "execution_count": 911,
   "metadata": {},
   "outputs": [
    {
     "data": {
      "text/plain": [
       "5"
      ]
     },
     "execution_count": 911,
     "metadata": {},
     "output_type": "execute_result"
    }
   ],
   "source": [
    "b"
   ]
  },
  {
   "cell_type": "code",
   "execution_count": 912,
   "metadata": {},
   "outputs": [
    {
     "data": {
      "text/plain": [
       "5"
      ]
     },
     "execution_count": 912,
     "metadata": {},
     "output_type": "execute_result"
    }
   ],
   "source": [
    "c"
   ]
  },
  {
   "cell_type": "code",
   "execution_count": 913,
   "metadata": {},
   "outputs": [
    {
     "name": "stdout",
     "output_type": "stream",
     "text": [
      "[1, 2, 'Fizz', 4, 'Buzz', 'Fizz', 7, 8, 'Fizz', 'Buzz', 11, 'Fizz', 13, 14, 'FizzBuzz']\n"
     ]
    },
    {
     "ename": "AttributeError",
     "evalue": "module 'constant' has no attribute 'PI'",
     "output_type": "error",
     "traceback": [
      "\u001b[1;31m---------------------------------------------------------------------------\u001b[0m",
      "\u001b[1;31mAttributeError\u001b[0m                            Traceback (most recent call last)",
      "\u001b[1;32mc:\\Users\\ugook\\Dropbox\\Le_Wagon_Bootcamp\\bc_practice.ipynb Cell 122'\u001b[0m in \u001b[0;36m<cell line: 2>\u001b[1;34m()\u001b[0m\n\u001b[0;32m      <a href='vscode-notebook-cell:/c%3A/Users/ugook/Dropbox/Le_Wagon_Bootcamp/bc_practice.ipynb#ch0000147?line=0'>1</a>\u001b[0m \u001b[39mimport\u001b[39;00m \u001b[39mconstant\u001b[39;00m\n\u001b[1;32m----> <a href='vscode-notebook-cell:/c%3A/Users/ugook/Dropbox/Le_Wagon_Bootcamp/bc_practice.ipynb#ch0000147?line=1'>2</a>\u001b[0m \u001b[39mprint\u001b[39m(constant\u001b[39m.\u001b[39;49mPI)\n",
      "\u001b[1;31mAttributeError\u001b[0m: module 'constant' has no attribute 'PI'"
     ]
    }
   ],
   "source": [
    "import constant\n",
    "print(constant.PI)"
   ]
  },
  {
   "cell_type": "code",
   "execution_count": 17,
   "metadata": {},
   "outputs": [
    {
     "name": "stdout",
     "output_type": "stream",
     "text": [
      "[350]\n",
      "[230]\n",
      "[150]\n",
      "None\n"
     ]
    }
   ],
   "source": [
    "import pp1\n",
    "\n",
    "#print(pp1.PI)\n",
    "#print(pp1.AGE_OF_STUDENTS)\n",
    "Hello \n",
    "Please, i need a help with turning these numbers into a list. \n",
    "Eg. Turning the values into a list \n",
    "Like this [350, 230, 150]\n",
    "How can i do this? \n",
    "Thank \n",
    "\n",
    "def poor_calories_counter(args1):\n",
    "    for key, value in list(args1.items()):\n",
    "        val = []\n",
    "        val.append(value)\n",
    "        print(val)\n",
    "\n",
    "\n",
    "order = {\n",
    "    \"McChicken\" : 350,\n",
    "    \"French_Fries\" : 230,\n",
    "    \"Sprite\" : 150\n",
    "}\n",
    "print(poor_calories_counter(order))"
   ]
  },
  {
   "cell_type": "code",
   "execution_count": 14,
   "metadata": {},
   "outputs": [
    {
     "name": "stdout",
     "output_type": "stream",
     "text": [
      "[('name', 'python'), ('version', 3.9)]\n"
     ]
    }
   ],
   "source": [
    "d = {\"name\":\"python\", \"version\":3.9}\n",
    "new_list = list(d.items())\n",
    "print(new_list)"
   ]
  },
  {
   "cell_type": "code",
   "execution_count": null,
   "metadata": {},
   "outputs": [],
   "source": []
  }
 ],
 "metadata": {
  "kernelspec": {
   "display_name": "Python 3.10.4 64-bit",
   "language": "python",
   "name": "python3"
  },
  "language_info": {
   "codemirror_mode": {
    "name": "ipython",
    "version": 3
   },
   "file_extension": ".py",
   "mimetype": "text/x-python",
   "name": "python",
   "nbconvert_exporter": "python",
   "pygments_lexer": "ipython3",
   "version": "3.10.4"
  },
  "orig_nbformat": 4,
  "vscode": {
   "interpreter": {
    "hash": "2d487116a31eb3ceb7b1a12e6d10885428bcb41492e68b3710237587f2151dbc"
   }
  }
 },
 "nbformat": 4,
 "nbformat_minor": 2
}

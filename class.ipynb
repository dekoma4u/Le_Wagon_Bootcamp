{
 "cells": [
  {
   "cell_type": "code",
   "execution_count": 12,
   "metadata": {},
   "outputs": [
    {
     "name": "stdout",
     "output_type": "stream",
     "text": [
      "True\n",
      "Red\n",
      "True\n",
      "Blue\n"
     ]
    }
   ],
   "source": [
    "class Car():\n",
    "    def __init__(self, color):\n",
    "        self.color = color\n",
    "        self.engine_started = True\n",
    "        \n",
    "    def is_engine_started(self):\n",
    "        return self.engine_started\n",
    "\n",
    "ferrari = Car(\"Red\")\n",
    "print(ferrari.engine_started)\n",
    "print(ferrari.color)\n",
    "\n",
    "porsche = Car(\"Blue\")\n",
    "print(porsche.engine_started)\n",
    "print(porsche.color)"
   ]
  },
  {
   "cell_type": "code",
   "execution_count": 13,
   "metadata": {},
   "outputs": [
    {
     "name": "stdout",
     "output_type": "stream",
     "text": [
      "True\n",
      "Red\n",
      "True\n"
     ]
    }
   ],
   "source": [
    "class Car():\n",
    "    def __init__(self, color):\n",
    "        self.color = color\n",
    "        self.engine_started = True\n",
    "        \n",
    "    def is_engine_started(self):\n",
    "        return self.engine_started\n",
    "\n",
    "ferrari = Car(\"Red\")\n",
    "print(ferrari.engine_started)\n",
    "print(ferrari.color)\n",
    "print(ferrari.is_engine_started())\n",
    "\n"
   ]
  },
  {
   "cell_type": "code",
   "execution_count": 54,
   "metadata": {},
   "outputs": [
    {
     "name": "stdout",
     "output_type": "stream",
     "text": [
      "True\n",
      "Red\n",
      "True\n",
      "False\n"
     ]
    }
   ],
   "source": [
    "class Car():\n",
    "    def __init__(self, color):\n",
    "        self.color = color\n",
    "        self.engine_started = True\n",
    "        \n",
    "    def is_engine_started(self):\n",
    "        return self.engine_started\n",
    "    \n",
    "    def start_engine(self):\n",
    "        self.engine_started = False\n",
    "\n",
    "ferrari = Car(\"Red\")\n",
    "print(ferrari.engine_started)\n",
    "print(ferrari.color)\n",
    "print(ferrari.is_engine_started())\n",
    "ferrari.start_engine()\n",
    "print(ferrari.is_engine_started())\n",
    "\n"
   ]
  },
  {
   "cell_type": "code",
   "execution_count": 64,
   "metadata": {},
   "outputs": [
    {
     "data": {
      "text/plain": [
       "'Dragonstone is ruled by Tiger'"
      ]
     },
     "execution_count": 64,
     "metadata": {},
     "output_type": "execute_result"
    }
   ],
   "source": [
    "class Castle():\n",
    "    def __init__(self, name, ruler):\n",
    "        self.name = name\n",
    "        self.ruler = ruler\n",
    "        \n",
    "    def castle_details(self):\n",
    "        return f\"{self.name} is ruled by {self.ruler_name()}\"\n",
    "    \n",
    "    def ruler_name(self):\n",
    "        return self.ruler.capitalize()\n",
    "\n",
    "dragonstone = Castle(\"Dragonstone\", \"tiger\")\n",
    "dragonstone.castle_details()"
   ]
  },
  {
   "cell_type": "code",
   "execution_count": 91,
   "metadata": {},
   "outputs": [
    {
     "data": {
      "text/plain": [
       "'Johns age 34'"
      ]
     },
     "execution_count": 91,
     "metadata": {},
     "output_type": "execute_result"
    }
   ],
   "source": [
    "\"\"\"\n",
    "    Task\n",
    "Your task is to complete this Class, the Person class has been created. \n",
    "You must fill in the Constructor method to accept a name as string and \n",
    "an age as number, complete the get Info property and getInfo method/Info getter \n",
    "which should return johns age is 34\n",
    "Reference: https://docs.python.org/3/tutorial/classes.html\n",
    "\"\"\"\n",
    "class Person:\n",
    "    def __init__(self, name, age):\n",
    "        self.name = name\n",
    "        self.age = age\n",
    "    \n",
    "    def info(self):\n",
    "        #return f\"{self.name_str()} age is {self.age_num()}\"\n",
    "        return \"{} age {}\".format(self.name_str(), self.age_num() )\n",
    "    \n",
    "    def name_str(self):\n",
    "        return str(self.name.capitalize())\n",
    "    def age_num(self):\n",
    "        return int(self.age)\n",
    "    \n",
    "young_man = Person(\"johns\", 34)\n",
    "young_man.info()\n",
    "    "
   ]
  },
  {
   "cell_type": "code",
   "execution_count": 76,
   "metadata": {},
   "outputs": [
    {
     "data": {
      "text/plain": [
       "['roll over', 'play dead', 'features']"
      ]
     },
     "execution_count": 76,
     "metadata": {},
     "output_type": "execute_result"
    }
   ],
   "source": [
    "class Dog:\n",
    "    tricks = []\n",
    "    \n",
    "    def __init__(self, name):\n",
    "        self.name = name\n",
    "        \n",
    "    def add_trick(self, trick):\n",
    "        self.tricks.append(trick)\n",
    "    \n",
    "    \n",
    "d = Dog(\"Fido\")\n",
    "e = Dog(\"Buddy\")\n",
    "d.add_trick(\"roll over\")\n",
    "e.add_trick(\"play dead\")\n",
    "e.add_trick(\"features\")\n",
    "d.tricks"
   ]
  },
  {
   "cell_type": "code",
   "execution_count": 139,
   "metadata": {},
   "outputs": [
    {
     "data": {
      "text/plain": [
       "'\\nclass Dog:\\n    \\n    \\n    def __init__(self, name):\\n        self.name = name\\n        self.tricks = []\\n        \\n    def add_trick(self, trick):\\n        self.tricks.append(trick)\\n    \\n    \\nd = Dog(\"Fido\")\\ne = Dog(\"Buddy\")\\nd.add_trick(\"roll over\")\\ne.add_trick(\"play dead\")\\ne.add_trick(\"features\")\\nd.tricks\\ne.tricks\\n'"
      ]
     },
     "execution_count": 139,
     "metadata": {},
     "output_type": "execute_result"
    }
   ],
   "source": [
    "\"\"\"\n",
    "class Dog:\n",
    "    \n",
    "    \n",
    "    def __init__(self, name):\n",
    "        self.name = name\n",
    "        self.tricks = []\n",
    "        \n",
    "    def add_trick(self, trick):\n",
    "        self.tricks.append(trick)\n",
    "    \n",
    "    \n",
    "d = Dog(\"Fido\")\n",
    "e = Dog(\"Buddy\")\n",
    "d.add_trick(\"roll over\")\n",
    "e.add_trick(\"play dead\")\n",
    "e.add_trick(\"features\")\n",
    "d.tricks\n",
    "e.tricks\n",
    "\"\"\""
   ]
  },
  {
   "cell_type": "code",
   "execution_count": 137,
   "metadata": {},
   "outputs": [
    {
     "data": {
      "text/plain": [
       "'\\nclass OrangeTree:\\n    def __init__(self, age, height, fruits):\\n        self.age = age \\n        self.height = height\\n        self.fruits = fruits \\n        self.dead = True\\n        \\n\\n        \\n    def one_year_passes(self):\\n        if self.age >= 1:\\n            self.height = 15\\n            self.height = 100\\n            return \"The tree is {} old thus has survived is {} tall. It has grown {} fruits.\".format(self.age, self.height, self.fruits)\\n                \\n        else:\\n            return \"Sadly, the tree {self.dead}\"\\n        \\n\\n    \\ncheck = OrangeTree(2, 15, 100)\\ncheck.one_year_passes()\\n'"
      ]
     },
     "execution_count": 137,
     "metadata": {},
     "output_type": "execute_result"
    }
   ],
   "source": [
    "\"\"\"\n",
    "class OrangeTree:\n",
    "    def __init__(self, age, height, fruits):\n",
    "        self.age = age \n",
    "        self.height = height\n",
    "        self.fruits = fruits \n",
    "        self.dead = True\n",
    "        \n",
    "\n",
    "        \n",
    "    def one_year_passes(self):\n",
    "        if self.age >= 1:\n",
    "            self.height = 15\n",
    "            self.height = 100\n",
    "            return \"The tree is {} old thus has survived is {} tall. It has grown {} fruits.\".format(self.age, self.height, self.fruits)\n",
    "                \n",
    "        else:\n",
    "            return \"Sadly, the tree {self.dead}\"\n",
    "        \n",
    "\n",
    "    \n",
    "check = OrangeTree(2, 15, 100)\n",
    "check.one_year_passes()\n",
    "\"\"\""
   ]
  },
  {
   "cell_type": "code",
   "execution_count": 164,
   "metadata": {},
   "outputs": [
    {
     "data": {
      "text/plain": [
       "'Check again,  no tree at 501 can still be alive. Sorry'"
      ]
     },
     "execution_count": 164,
     "metadata": {},
     "output_type": "execute_result"
    }
   ],
   "source": [
    "class OrangeTree:\n",
    "    def __init__(self, age, height, fruits):\n",
    "        self.age = age \n",
    "        self.height = height\n",
    "        self.fruits = fruits \n",
    "        self.dead = False\n",
    "        \n",
    "\n",
    "       \n",
    "    def one_year_passes(self):\n",
    "        #tall = 0\n",
    "        #for one in self.age:\n",
    "        if self.age <= 1:\n",
    "                #self.age += 1\n",
    "            return self.age\n",
    "        elif self.age >= 1 and self.age <= 10:\n",
    "            #height of the tree\n",
    "            return self.height\n",
    "            #Checking for age above 10 and notifying for death from 50\n",
    "        elif self.age >= 10 and self.age < 100:\n",
    "            self.height = 10\n",
    "            return f\"Tree is {self.age} and can die from 50\"\n",
    "\n",
    "        elif self.age >= 100:\n",
    "            return f\"Check again,  no tree at {self.age} can still be alive. Sorry\"\n",
    "        \n",
    "                \n",
    "\n",
    "\n",
    "    \n",
    "check = OrangeTree(501, 11, 100)\n",
    "check.one_year_passes()"
   ]
  },
  {
   "cell_type": "code",
   "execution_count": null,
   "metadata": {},
   "outputs": [],
   "source": []
  }
 ],
 "metadata": {
  "kernelspec": {
   "display_name": "Python 3.10.4 64-bit",
   "language": "python",
   "name": "python3"
  },
  "language_info": {
   "codemirror_mode": {
    "name": "ipython",
    "version": 3
   },
   "file_extension": ".py",
   "mimetype": "text/x-python",
   "name": "python",
   "nbconvert_exporter": "python",
   "pygments_lexer": "ipython3",
   "version": "3.10.4"
  },
  "orig_nbformat": 4,
  "vscode": {
   "interpreter": {
    "hash": "2d487116a31eb3ceb7b1a12e6d10885428bcb41492e68b3710237587f2151dbc"
   }
  }
 },
 "nbformat": 4,
 "nbformat_minor": 2
}

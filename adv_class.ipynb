{
 "cells": [
  {
   "cell_type": "code",
   "execution_count": 2,
   "metadata": {},
   "outputs": [
    {
     "ename": "TypeError",
     "evalue": "Item.__init__() missing 3 required positional arguments: 'name', 'price', and 'quantity'",
     "output_type": "error",
     "traceback": [
      "\u001b[1;31m---------------------------------------------------------------------------\u001b[0m",
      "\u001b[1;31mTypeError\u001b[0m                                 Traceback (most recent call last)",
      "\u001b[1;32mc:\\Users\\ugook\\Dropbox\\Le_Wagon_Bootcamp\\adv_class.ipynb Cell 1'\u001b[0m in \u001b[0;36m<cell line: 19>\u001b[1;34m()\u001b[0m\n\u001b[0;32m     <a href='vscode-notebook-cell:/c%3A/Users/ugook/Dropbox/Le_Wagon_Bootcamp/adv_class.ipynb#ch0000000?line=15'>16</a>\u001b[0m     \u001b[39mdef\u001b[39;00m \u001b[39mitem_quantity\u001b[39m(\u001b[39mself\u001b[39m):\n\u001b[0;32m     <a href='vscode-notebook-cell:/c%3A/Users/ugook/Dropbox/Le_Wagon_Bootcamp/adv_class.ipynb#ch0000000?line=16'>17</a>\u001b[0m         \u001b[39mself\u001b[39m\u001b[39m.\u001b[39mquantity \u001b[39m=\u001b[39m \u001b[39m10\u001b[39m\n\u001b[1;32m---> <a href='vscode-notebook-cell:/c%3A/Users/ugook/Dropbox/Le_Wagon_Bootcamp/adv_class.ipynb#ch0000000?line=18'>19</a>\u001b[0m item \u001b[39m=\u001b[39m Item()\n\u001b[0;32m     <a href='vscode-notebook-cell:/c%3A/Users/ugook/Dropbox/Le_Wagon_Bootcamp/adv_class.ipynb#ch0000000?line=19'>20</a>\u001b[0m \u001b[39mprint\u001b[39m(item\u001b[39m.\u001b[39mitem_details())\n",
      "\u001b[1;31mTypeError\u001b[0m: Item.__init__() missing 3 required positional arguments: 'name', 'price', and 'quantity'"
     ]
    }
   ],
   "source": [
    "\n",
    "class Item:\n",
    "    def __init__(self, name, price, quantity):\n",
    "        self.name = name\n",
    "        self.price = price\n",
    "        self.quantity = quantity\n",
    "        \n",
    "    def item_details(self ):\n",
    "        return self.price * self.quantity\n",
    "    \n",
    "    def item_name(self):\n",
    "        self.name = \"Laptop\"\n",
    "        \n",
    "    def item_price(self):\n",
    "        self.price = 150\n",
    "        \n",
    "    def item_quantity(self):\n",
    "        self.quantity = 10\n",
    "        \n",
    "item = Item()\n",
    "print(item.item_details())"
   ]
  },
  {
   "cell_type": "code",
   "execution_count": 7,
   "metadata": {},
   "outputs": [
    {
     "name": "stdout",
     "output_type": "stream",
     "text": [
      "Laptop 500 5\n",
      "Phone 300 6\n"
     ]
    }
   ],
   "source": [
    "\n",
    "class Item:\n",
    "    def __init__(self, name, price, quantity):\n",
    "        self.name = name\n",
    "        self.price = price \n",
    "        self.quantity = quantity\n",
    "        \n",
    "    \n",
    "item1 = Item(\"Laptop\", 500, 5)\n",
    "item2 = Item(\"Phone\", 300, 6)\n",
    "print(item1.name, item1.price, item1.quantity)\n",
    "print(item2.name, item2.price, item2.quantity)"
   ]
  },
  {
   "cell_type": "code",
   "execution_count": 8,
   "metadata": {},
   "outputs": [
    {
     "name": "stdout",
     "output_type": "stream",
     "text": [
      "Laptop 500 5\n",
      "Phone 300 6\n"
     ]
    }
   ],
   "source": [
    "\n",
    "class Item:\n",
    "    def __init__(self, name, price, quantity):\n",
    "        self.name = name\n",
    "        self.price = price \n",
    "        self.quantity = quantity\n",
    "        \n",
    "    \n",
    "item1 = Item(\"Laptop\", 500, 5)\n",
    "item2 = Item(\"Phone\", 300, 6)\n",
    "print(item1.name, item1.price, item1.quantity)\n",
    "print(item2.name, item2.price, item2.quantity)"
   ]
  },
  {
   "cell_type": "code",
   "execution_count": 11,
   "metadata": {},
   "outputs": [
    {
     "ename": "SyntaxError",
     "evalue": "(unicode error) 'unicodeescape' codec can't decode bytes in position 0-1: truncated \\uXXXX escape (867133348.py, line 11)",
     "output_type": "error",
     "traceback": [
      "\u001b[1;36m  Input \u001b[1;32mIn [11]\u001b[1;36m\u001b[0m\n\u001b[1;33m    print(f\"The item bought is {item2.name} at {item2.price}\\usd and quantity of {item2.quantity}\")\u001b[0m\n\u001b[1;37m                                                                                                  ^\u001b[0m\n\u001b[1;31mSyntaxError\u001b[0m\u001b[1;31m:\u001b[0m (unicode error) 'unicodeescape' codec can't decode bytes in position 0-1: truncated \\uXXXX escape\n"
     ]
    }
   ],
   "source": [
    "     \n",
    "class Item:\n",
    "    def __init__(self, name, price, quantity=0):\n",
    "        self.name = name\n",
    "        self.price = price \n",
    "        self.quantity = quantity\n",
    "        \n",
    "    \n",
    "item1 = Item(\"Laptop\", 500)\n",
    "item2 = Item(\"Phone\", 300)\n",
    "print(item2.name, item2.price, item2.quantity)   \n"
   ]
  },
  {
   "cell_type": "code",
   "execution_count": null,
   "metadata": {},
   "outputs": [],
   "source": []
  }
 ],
 "metadata": {
  "kernelspec": {
   "display_name": "Python 3.10.4 64-bit",
   "language": "python",
   "name": "python3"
  },
  "language_info": {
   "codemirror_mode": {
    "name": "ipython",
    "version": 3
   },
   "file_extension": ".py",
   "mimetype": "text/x-python",
   "name": "python",
   "nbconvert_exporter": "python",
   "pygments_lexer": "ipython3",
   "version": "3.10.4"
  },
  "orig_nbformat": 4,
  "vscode": {
   "interpreter": {
    "hash": "2d487116a31eb3ceb7b1a12e6d10885428bcb41492e68b3710237587f2151dbc"
   }
  }
 },
 "nbformat": 4,
 "nbformat_minor": 2
}

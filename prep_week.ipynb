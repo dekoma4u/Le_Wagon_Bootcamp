{
 "cells": [
  {
   "cell_type": "code",
   "execution_count": 1,
   "metadata": {},
   "outputs": [
    {
     "name": "stdout",
     "output_type": "stream",
     "text": [
      "65\n"
     ]
    }
   ],
   "source": [
    "num1 = int(input(\"Type here\"))\n",
    "num2 = int(input(\"Type here\"))\n",
    "result = num1 + num2\n",
    "print(result)"
   ]
  },
  {
   "cell_type": "code",
   "execution_count": 3,
   "metadata": {},
   "outputs": [
    {
     "name": "stdout",
     "output_type": "stream",
     "text": [
      "10.1\n"
     ]
    }
   ],
   "source": [
    "num1 = float(input(\"Type here\"))\n",
    "num2 = float(input(\"Type here\"))\n",
    "result = num1 + num2\n",
    "print(result)"
   ]
  },
  {
   "cell_type": "code",
   "execution_count": 6,
   "metadata": {},
   "outputs": [
    {
     "name": "stdout",
     "output_type": "stream",
     "text": [
      "Roses are red\n",
      "Roses are blue\n",
      "I love ugoo.upper()\n"
     ]
    }
   ],
   "source": [
    "color = input(\"Enter a color: \")\n",
    "Plural_noun = input(\"Enter a plural noun: \")\n",
    "celebrity = input(\"Enter a celebrity: \")\n",
    "\n",
    "print(f\"Roses are {color}\")\n",
    "print(f\"{Plural_noun} are blue\")\n",
    "print(f\"I love {celebrity}.upper()\")"
   ]
  },
  {
   "cell_type": "code",
   "execution_count": 13,
   "metadata": {},
   "outputs": [
    {
     "name": "stdout",
     "output_type": "stream",
     "text": [
      "Valentine\n"
     ]
    }
   ],
   "source": [
    "berry = [\"Mary\", \"Smith\", \"Adah\", \"Barry\"]\n",
    "berry[-1] = \"Valentine\"\n",
    "print(berry[-1])"
   ]
  },
  {
   "cell_type": "code",
   "execution_count": 15,
   "metadata": {},
   "outputs": [
    {
     "data": {
      "text/plain": [
       "['Mary', 'Smith', 'Adah', 'Barry', 23, 56, 12, 5, 20, 55, 9, 6]"
      ]
     },
     "execution_count": 15,
     "metadata": {},
     "output_type": "execute_result"
    }
   ],
   "source": [
    "friends = [\"Mary\", \"Smith\", \"Adah\", \"Barry\"]\n",
    "lucky_numbers = [23, 56, 12, 5, 20, 55, 9, 6]\n",
    "friends.extend(lucky_numbers)\n",
    "friends"
   ]
  },
  {
   "cell_type": "code",
   "execution_count": 20,
   "metadata": {},
   "outputs": [
    {
     "data": {
      "text/plain": [
       "['Adah', 'Barry', 'Mary', 'Smith', 'Ugoo']"
      ]
     },
     "execution_count": 20,
     "metadata": {},
     "output_type": "execute_result"
    }
   ],
   "source": [
    "friends = [\"Mary\", \"Smith\", \"Adah\", \"Barry\"]\n",
    "lucky_numbers = [23, 56, 12, 5, 20, 55, 9, 6]\n",
    "friends.append(\"Ugoo\")\n",
    "sorted(friends)"
   ]
  },
  {
   "cell_type": "code",
   "execution_count": 21,
   "metadata": {},
   "outputs": [
    {
     "data": {
      "text/plain": [
       "['Mary', 'Blessing', 'Smith', 'Adah', 'Barry', 23, 56, 12, 5, 20, 55, 9, 6]"
      ]
     },
     "execution_count": 21,
     "metadata": {},
     "output_type": "execute_result"
    }
   ],
   "source": [
    "friends = [\"Mary\", \"Smith\", \"Adah\", \"Barry\"]\n",
    "lucky_numbers = [23, 56, 12, 5, 20, 55, 9, 6]\n",
    "friends.extend(lucky_numbers)\n",
    "friends.insert(1, \"Blessing\")\n",
    "friends"
   ]
  },
  {
   "cell_type": "code",
   "execution_count": 22,
   "metadata": {},
   "outputs": [
    {
     "data": {
      "text/plain": [
       "['Mary', 'Smith', 'Adah', 'Barry', 23, 56, 12, 5, 20, 55, 9, 6]"
      ]
     },
     "execution_count": 22,
     "metadata": {},
     "output_type": "execute_result"
    }
   ],
   "source": [
    "friends = [\"Mary\", \"Smith\", \"Adah\", \"Barry\"]\n",
    "lucky_numbers = [23, 56, 12, 5, 20, 55, 9, 6]\n",
    "friends.extend(lucky_numbers)\n",
    "friends.insert(1, \"Blessing\")\n",
    "friends.remove(\"Blessing\")\n",
    "friends"
   ]
  },
  {
   "cell_type": "code",
   "execution_count": 23,
   "metadata": {},
   "outputs": [
    {
     "data": {
      "text/plain": [
       "[]"
      ]
     },
     "execution_count": 23,
     "metadata": {},
     "output_type": "execute_result"
    }
   ],
   "source": [
    "friends = [\"Mary\", \"Smith\", \"Adah\", \"Barry\"]\n",
    "lucky_numbers = [23, 56, 12, 5, 20, 55, 9, 6]\n",
    "friends.extend(lucky_numbers)\n",
    "friends.insert(1, \"Blessing\")\n",
    "friends.clear()\n",
    "friends"
   ]
  },
  {
   "cell_type": "code",
   "execution_count": 26,
   "metadata": {},
   "outputs": [
    {
     "data": {
      "text/plain": [
       "['Mary', 'Blessing', 'Smith', 'Adah', 'Barry', 23, 56, 12, 5, 20, 55, 9]"
      ]
     },
     "execution_count": 26,
     "metadata": {},
     "output_type": "execute_result"
    }
   ],
   "source": [
    "friends = [\"Mary\", \"Smith\", \"Adah\", \"Barry\"]\n",
    "lucky_numbers = [23, 56, 12, 5, 20, 55, 9, 6]\n",
    "friends.extend(lucky_numbers)\n",
    "friends.insert(1, \"Blessing\")\n",
    "#Pops\n",
    "friends.pop()\n",
    "friends"
   ]
  },
  {
   "cell_type": "code",
   "execution_count": 29,
   "metadata": {},
   "outputs": [
    {
     "data": {
      "text/plain": [
       "0"
      ]
     },
     "execution_count": 29,
     "metadata": {},
     "output_type": "execute_result"
    }
   ],
   "source": [
    "friends = [\"Mary\", \"Smith\", \"Adah\", \"Blessing\" \"Barry\"]\n",
    "lucky_numbers = [23, 56, 12, 5, 20, 55, 9, 6]\n",
    "friends.extend(lucky_numbers)\n",
    "friends.insert(1, \"Blessing\")\n",
    "friends.index(\"Mary\")\n"
   ]
  },
  {
   "cell_type": "code",
   "execution_count": 34,
   "metadata": {},
   "outputs": [
    {
     "data": {
      "text/plain": [
       "2"
      ]
     },
     "execution_count": 34,
     "metadata": {},
     "output_type": "execute_result"
    }
   ],
   "source": [
    "friends = [\"Mary\", \"Smith\", \"Adah\", \"Blessing\", \"Barry\"]\n",
    "lucky_numbers = [23, 56, 12, 5, 20, 55, 9, 6]\n",
    "friends.extend(lucky_numbers)\n",
    "friends.insert(1, \"Blessing\")\n",
    "friends.count(\"Blessing\")\n"
   ]
  },
  {
   "cell_type": "code",
   "execution_count": 41,
   "metadata": {},
   "outputs": [
    {
     "data": {
      "text/plain": [
       "['Adah', 'Barry', 'Blessing', 'Mary', 'Smith']"
      ]
     },
     "execution_count": 41,
     "metadata": {},
     "output_type": "execute_result"
    }
   ],
   "source": [
    "friends = [\"Mary\", \"Smith\", \"Adah\", \"Blessing\", \"Barry\"]\n",
    "friends.sort()\n",
    "friends\n"
   ]
  },
  {
   "cell_type": "code",
   "execution_count": 43,
   "metadata": {},
   "outputs": [
    {
     "data": {
      "text/plain": [
       "['Adah', 'Barry', 'Blessing', 'Mary', 'Smith']"
      ]
     },
     "execution_count": 43,
     "metadata": {},
     "output_type": "execute_result"
    }
   ],
   "source": [
    "friends = [\"Mary\", \"Smith\", \"Adah\", \"Blessing\", \"Barry\"]\n",
    "sorted(friends)"
   ]
  },
  {
   "cell_type": "code",
   "execution_count": 44,
   "metadata": {},
   "outputs": [
    {
     "data": {
      "text/plain": [
       "['Barry', 'Blessing', 'Adah', 'Smith', 'Mary']"
      ]
     },
     "execution_count": 44,
     "metadata": {},
     "output_type": "execute_result"
    }
   ],
   "source": [
    "friends = [\"Mary\", \"Smith\", \"Adah\", \"Blessing\", \"Barry\"]\n",
    "friends.reverse()\n",
    "friends"
   ]
  },
  {
   "cell_type": "code",
   "execution_count": 48,
   "metadata": {},
   "outputs": [
    {
     "name": "stdout",
     "output_type": "stream",
     "text": [
      "['Mary', 'Smith', 'Adah', 'Blessing', 'Barry']\n",
      "['Mary', 'Smith', 'Adah', 'Blessing', 'Barry']\n"
     ]
    }
   ],
   "source": [
    "friends = [\"Mary\", \"Smith\", \"Adah\", \"Blessing\", \"Barry\"]\n",
    "friends2 = friends.copy()\n",
    "print(friends)\n",
    "print(friends2)"
   ]
  },
  {
   "cell_type": "code",
   "execution_count": 52,
   "metadata": {},
   "outputs": [
    {
     "data": {
      "text/plain": [
       "(34, 65)"
      ]
     },
     "execution_count": 52,
     "metadata": {},
     "output_type": "execute_result"
    }
   ],
   "source": [
    "coordinates = [(50, 10), (34, 65), (90.12)]\n",
    "coordinates[1]"
   ]
  },
  {
   "cell_type": "code",
   "execution_count": 53,
   "metadata": {},
   "outputs": [
    {
     "name": "stdout",
     "output_type": "stream",
     "text": [
      "Top\n",
      "Hello World\n",
      "Bottom\n"
     ]
    }
   ],
   "source": [
    "def sayhi():\n",
    "    print(\"Hello World\")\n",
    "print(\"Top\")\n",
    "sayhi()\n",
    "print(\"Bottom\")"
   ]
  },
  {
   "cell_type": "code",
   "execution_count": 76,
   "metadata": {},
   "outputs": [
    {
     "name": "stdout",
     "output_type": "stream",
     "text": [
      "Hello World Mike Smith. You are 40\n",
      "Hello World Ada Jesus. You are 25\n"
     ]
    }
   ],
   "source": [
    "def sayhi(name, age):\n",
    "    print(\"Hello World \" + name + \". You are \" + str(age))\n",
    "    \n",
    "sayhi(\"Mike Smith\", 40) \n",
    "sayhi(\"Ada Jesus\", 25)"
   ]
  },
  {
   "cell_type": "code",
   "execution_count": 72,
   "metadata": {},
   "outputs": [
    {
     "data": {
      "text/plain": [
       "27"
      ]
     },
     "execution_count": 72,
     "metadata": {},
     "output_type": "execute_result"
    }
   ],
   "source": [
    "def cube (num):\n",
    "    return num * num * num\n",
    "\n",
    "cube(3)  "
   ]
  },
  {
   "cell_type": "code",
   "execution_count": 77,
   "metadata": {},
   "outputs": [
    {
     "name": "stdout",
     "output_type": "stream",
     "text": [
      "64\n"
     ]
    }
   ],
   "source": [
    "def cube (num):\n",
    "    return num * num * num\n",
    "result = cube(4)\n",
    "print(result)"
   ]
  },
  {
   "cell_type": "code",
   "execution_count": 82,
   "metadata": {},
   "outputs": [
    {
     "name": "stdout",
     "output_type": "stream",
     "text": [
      "You are a male\n"
     ]
    }
   ],
   "source": [
    "is_male = True\n",
    "if is_male is True:\n",
    "    print(\"You are a male\")"
   ]
  },
  {
   "cell_type": "code",
   "execution_count": 83,
   "metadata": {},
   "outputs": [
    {
     "name": "stdout",
     "output_type": "stream",
     "text": [
      "You are a male\n"
     ]
    }
   ],
   "source": [
    "is_male = True\n",
    "if is_male:\n",
    "    print(\"You are a male\")"
   ]
  },
  {
   "cell_type": "code",
   "execution_count": 84,
   "metadata": {},
   "outputs": [],
   "source": [
    "is_male = False\n",
    "if is_male:\n",
    "    print(\"You are a male\")"
   ]
  },
  {
   "cell_type": "code",
   "execution_count": 86,
   "metadata": {},
   "outputs": [
    {
     "name": "stdout",
     "output_type": "stream",
     "text": [
      "You are not a male. You are a female\n"
     ]
    }
   ],
   "source": [
    "is_male = False\n",
    "if is_male:\n",
    "    print(\"You are a male\")\n",
    "else: \n",
    "    print(\"You are not a male. You are a female\")"
   ]
  },
  {
   "cell_type": "code",
   "execution_count": 87,
   "metadata": {},
   "outputs": [
    {
     "name": "stdout",
     "output_type": "stream",
     "text": [
      "You are a male or tall or both\n"
     ]
    }
   ],
   "source": [
    "is_male = True\n",
    "is_tall = True\n",
    "\n",
    "if is_male or is_tall:\n",
    "    print(\"You are a male or tall or both\")\n",
    "else:\n",
    "    print(\"You are neither tall or male\")"
   ]
  },
  {
   "cell_type": "code",
   "execution_count": 88,
   "metadata": {},
   "outputs": [
    {
     "name": "stdout",
     "output_type": "stream",
     "text": [
      "You are a male or tall or both\n"
     ]
    }
   ],
   "source": [
    "is_male = True\n",
    "is_tall = False\n",
    "\n",
    "if is_male or is_tall:\n",
    "    print(\"You are a male or tall or both\")\n",
    "else:\n",
    "    print(\"You are neither tall or male\")"
   ]
  },
  {
   "cell_type": "code",
   "execution_count": 89,
   "metadata": {},
   "outputs": [
    {
     "name": "stdout",
     "output_type": "stream",
     "text": [
      "You are neither tall or male\n"
     ]
    }
   ],
   "source": [
    "is_male = False\n",
    "is_tall = False\n",
    "\n",
    "if is_male or is_tall:\n",
    "    print(\"You are a male or tall or both\")\n",
    "else:\n",
    "    print(\"You are neither tall or male\")"
   ]
  },
  {
   "cell_type": "code",
   "execution_count": 92,
   "metadata": {},
   "outputs": [
    {
     "name": "stdout",
     "output_type": "stream",
     "text": [
      "You are not tall and male\n"
     ]
    }
   ],
   "source": [
    "is_male = True\n",
    "is_tall = False\n",
    "\n",
    "if is_male and is_tall:\n",
    "    print(\"You are a male and tall or both\")\n",
    "else:\n",
    "    print(\"You are not tall and male\")"
   ]
  },
  {
   "cell_type": "code",
   "execution_count": 93,
   "metadata": {},
   "outputs": [
    {
     "name": "stdout",
     "output_type": "stream",
     "text": [
      "You are not tall and male\n"
     ]
    }
   ],
   "source": [
    "is_male = False\n",
    "is_tall = False\n",
    "\n",
    "if is_male and is_tall:\n",
    "    print(\"You are a male and tall or both\")\n",
    "else:\n",
    "    print(\"You are not tall and male\")"
   ]
  },
  {
   "cell_type": "code",
   "execution_count": 95,
   "metadata": {},
   "outputs": [
    {
     "name": "stdout",
     "output_type": "stream",
     "text": [
      "You are a male and tall or both\n"
     ]
    }
   ],
   "source": [
    "is_male = True\n",
    "is_tall = True\n",
    "\n",
    "if is_male and is_tall:\n",
    "    print(\"You are a male and tall or both\")\n",
    "else:\n",
    "    print(\"You are not tall and male\")"
   ]
  },
  {
   "cell_type": "code",
   "execution_count": 98,
   "metadata": {},
   "outputs": [
    {
     "name": "stdout",
     "output_type": "stream",
     "text": [
      "Yes, he is male and not tall\n"
     ]
    }
   ],
   "source": [
    "is_male = True\n",
    "is_tall = False\n",
    "\n",
    "if is_male and is_tall:\n",
    "    print(\"You are a male and tall or both\")\n",
    "elif is_male and not is_tall:\n",
    "    print(\"Yes, he is male and not tall\")\n",
    "else:\n",
    "    print(\"You are not tall and male\")"
   ]
  },
  {
   "cell_type": "code",
   "execution_count": 99,
   "metadata": {},
   "outputs": [
    {
     "name": "stdout",
     "output_type": "stream",
     "text": [
      "Yes, he is not male and  tall\n"
     ]
    }
   ],
   "source": [
    "is_male = False\n",
    "is_tall = True\n",
    "\n",
    "if is_male and is_tall:\n",
    "    print(\"You are a male and tall or both\")\n",
    "elif is_male and not is_tall:\n",
    "    print(\"Yes, he is male and not tall\")\n",
    "elif not is_male and is_tall:\n",
    "    print(\"Yes, he is not male and  tall\")\n",
    "else:\n",
    "    print(\"You are not tall and male\")"
   ]
  },
  {
   "cell_type": "code",
   "execution_count": 101,
   "metadata": {},
   "outputs": [
    {
     "name": "stdout",
     "output_type": "stream",
     "text": [
      "Yes, he is not male and tall\n"
     ]
    }
   ],
   "source": [
    "is_male = False\n",
    "is_tall = True\n",
    "\n",
    "if is_male and is_tall:\n",
    "    print(\"You are a male and tall or both\")\n",
    "elif is_male and not (is_tall):\n",
    "    print(\"Yes, he is male and not tall\")\n",
    "elif not (is_male) and is_tall:\n",
    "    print(\"Yes, he is not male and tall\")\n",
    "else:\n",
    "    print(\"You are not tall and male\")"
   ]
  },
  {
   "cell_type": "code",
   "execution_count": 105,
   "metadata": {},
   "outputs": [
    {
     "name": "stdout",
     "output_type": "stream",
     "text": [
      "5\n",
      "14\n"
     ]
    }
   ],
   "source": [
    "def max_num(num1, num2, num3):\n",
    "    if num1 >= num2 and num1 >= num3:\n",
    "        return num1\n",
    "    elif num2 >= num1 and num2 >= num3:\n",
    "        return num2\n",
    "    else:\n",
    "        return num3\n",
    "print(max_num(3,4,5))\n",
    "print(max_num(6,14,3))"
   ]
  },
  {
   "cell_type": "code",
   "execution_count": 106,
   "metadata": {},
   "outputs": [
    {
     "ename": "ValueError",
     "evalue": "could not convert string to float: '4+6'",
     "output_type": "error",
     "traceback": [
      "\u001b[1;31m---------------------------------------------------------------------------\u001b[0m",
      "\u001b[1;31mValueError\u001b[0m                                Traceback (most recent call last)",
      "\u001b[1;32mc:\\Users\\ugook\\Dropbox\\Le_Wagon_Bootcamp\\prep_week.ipynb Cell 36'\u001b[0m in \u001b[0;36m<cell line: 1>\u001b[1;34m()\u001b[0m\n\u001b[1;32m----> <a href='vscode-notebook-cell:/c%3A/Users/ugook/Dropbox/Le_Wagon_Bootcamp/prep_week.ipynb#ch0000036?line=0'>1</a>\u001b[0m num1 \u001b[39m=\u001b[39m \u001b[39mfloat\u001b[39;49m(\u001b[39minput\u001b[39;49m(\u001b[39m\"\u001b[39;49m\u001b[39mEnter a number\u001b[39;49m\u001b[39m\"\u001b[39;49m))\n\u001b[0;32m      <a href='vscode-notebook-cell:/c%3A/Users/ugook/Dropbox/Le_Wagon_Bootcamp/prep_week.ipynb#ch0000036?line=1'>2</a>\u001b[0m op \u001b[39m=\u001b[39m \u001b[39minput\u001b[39m(\u001b[39m\"\u001b[39m\u001b[39mEnter an operator\u001b[39m\u001b[39m\"\u001b[39m)\n\u001b[0;32m      <a href='vscode-notebook-cell:/c%3A/Users/ugook/Dropbox/Le_Wagon_Bootcamp/prep_week.ipynb#ch0000036?line=2'>3</a>\u001b[0m num2 \u001b[39m=\u001b[39m \u001b[39mfloat\u001b[39m(\u001b[39minput\u001b[39m(\u001b[39m\"\u001b[39m\u001b[39mEnter another number\u001b[39m\u001b[39m\"\u001b[39m))\n",
      "\u001b[1;31mValueError\u001b[0m: could not convert string to float: '4+6'"
     ]
    }
   ],
   "source": [
    "num1 = float(input(\"Enter a number: \"))\n",
    "op = input(\"Enter an operator\": )\n",
    "num2 = float(input(\"Enter another number: \"))\n",
    "\n",
    "if op == \"+\":\n",
    "    print(num1 + num2)\n",
    "elif op == \"-\":\n",
    "    print(num1 - num2)\n",
    "elif op == \"*\":\n",
    "    print(num1 *num2)\n",
    "elif op == \"/\":\n",
    "    print(num1 / num2)\n",
    "else:\n",
    "    print(\"Please, use the right operator\")\n"
   ]
  },
  {
   "cell_type": "code",
   "execution_count": null,
   "metadata": {},
   "outputs": [],
   "source": []
  }
 ],
 "metadata": {
  "kernelspec": {
   "display_name": "Python 3.10.4 64-bit",
   "language": "python",
   "name": "python3"
  },
  "language_info": {
   "codemirror_mode": {
    "name": "ipython",
    "version": 3
   },
   "file_extension": ".py",
   "mimetype": "text/x-python",
   "name": "python",
   "nbconvert_exporter": "python",
   "pygments_lexer": "ipython3",
   "version": "3.10.4"
  },
  "orig_nbformat": 4,
  "vscode": {
   "interpreter": {
    "hash": "2d487116a31eb3ceb7b1a12e6d10885428bcb41492e68b3710237587f2151dbc"
   }
  }
 },
 "nbformat": 4,
 "nbformat_minor": 2
}

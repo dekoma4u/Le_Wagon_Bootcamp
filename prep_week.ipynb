{
 "cells": [
  {
   "cell_type": "code",
   "execution_count": 1,
   "metadata": {},
   "outputs": [
    {
     "name": "stdout",
     "output_type": "stream",
     "text": [
      "65\n"
     ]
    }
   ],
   "source": [
    "num1 = int(input(\"Type here\"))\n",
    "num2 = int(input(\"Type here\"))\n",
    "result = num1 + num2\n",
    "print(result)"
   ]
  },
  {
   "cell_type": "code",
   "execution_count": 3,
   "metadata": {},
   "outputs": [
    {
     "name": "stdout",
     "output_type": "stream",
     "text": [
      "10.1\n"
     ]
    }
   ],
   "source": [
    "num1 = float(input(\"Type here\"))\n",
    "num2 = float(input(\"Type here\"))\n",
    "result = num1 + num2\n",
    "print(result)"
   ]
  },
  {
   "cell_type": "code",
   "execution_count": 6,
   "metadata": {},
   "outputs": [
    {
     "name": "stdout",
     "output_type": "stream",
     "text": [
      "Roses are red\n",
      "Roses are blue\n",
      "I love ugoo.upper()\n"
     ]
    }
   ],
   "source": [
    "color = input(\"Enter a color: \")\n",
    "Plural_noun = input(\"Enter a plural noun: \")\n",
    "celebrity = input(\"Enter a celebrity: \")\n",
    "\n",
    "print(f\"Roses are {color}\")\n",
    "print(f\"{Plural_noun} are blue\")\n",
    "print(f\"I love {celebrity}.upper()\")"
   ]
  },
  {
   "cell_type": "code",
   "execution_count": 13,
   "metadata": {},
   "outputs": [
    {
     "name": "stdout",
     "output_type": "stream",
     "text": [
      "Valentine\n"
     ]
    }
   ],
   "source": [
    "berry = [\"Mary\", \"Smith\", \"Adah\", \"Barry\"]\n",
    "berry[-1] = \"Valentine\"\n",
    "print(berry[-1])"
   ]
  },
  {
   "cell_type": "code",
   "execution_count": 15,
   "metadata": {},
   "outputs": [
    {
     "data": {
      "text/plain": [
       "['Mary', 'Smith', 'Adah', 'Barry', 23, 56, 12, 5, 20, 55, 9, 6]"
      ]
     },
     "execution_count": 15,
     "metadata": {},
     "output_type": "execute_result"
    }
   ],
   "source": [
    "friends = [\"Mary\", \"Smith\", \"Adah\", \"Barry\"]\n",
    "lucky_numbers = [23, 56, 12, 5, 20, 55, 9, 6]\n",
    "friends.extend(lucky_numbers)\n",
    "friends"
   ]
  },
  {
   "cell_type": "code",
   "execution_count": 20,
   "metadata": {},
   "outputs": [
    {
     "data": {
      "text/plain": [
       "['Adah', 'Barry', 'Mary', 'Smith', 'Ugoo']"
      ]
     },
     "execution_count": 20,
     "metadata": {},
     "output_type": "execute_result"
    }
   ],
   "source": [
    "friends = [\"Mary\", \"Smith\", \"Adah\", \"Barry\"]\n",
    "lucky_numbers = [23, 56, 12, 5, 20, 55, 9, 6]\n",
    "friends.append(\"Ugoo\")\n",
    "sorted(friends)"
   ]
  },
  {
   "cell_type": "code",
   "execution_count": 21,
   "metadata": {},
   "outputs": [
    {
     "data": {
      "text/plain": [
       "['Mary', 'Blessing', 'Smith', 'Adah', 'Barry', 23, 56, 12, 5, 20, 55, 9, 6]"
      ]
     },
     "execution_count": 21,
     "metadata": {},
     "output_type": "execute_result"
    }
   ],
   "source": [
    "friends = [\"Mary\", \"Smith\", \"Adah\", \"Barry\"]\n",
    "lucky_numbers = [23, 56, 12, 5, 20, 55, 9, 6]\n",
    "friends.extend(lucky_numbers)\n",
    "friends.insert(1, \"Blessing\")\n",
    "friends"
   ]
  },
  {
   "cell_type": "code",
   "execution_count": 22,
   "metadata": {},
   "outputs": [
    {
     "data": {
      "text/plain": [
       "['Mary', 'Smith', 'Adah', 'Barry', 23, 56, 12, 5, 20, 55, 9, 6]"
      ]
     },
     "execution_count": 22,
     "metadata": {},
     "output_type": "execute_result"
    }
   ],
   "source": [
    "friends = [\"Mary\", \"Smith\", \"Adah\", \"Barry\"]\n",
    "lucky_numbers = [23, 56, 12, 5, 20, 55, 9, 6]\n",
    "friends.extend(lucky_numbers)\n",
    "friends.insert(1, \"Blessing\")\n",
    "friends.remove(\"Blessing\")\n",
    "friends"
   ]
  },
  {
   "cell_type": "code",
   "execution_count": 23,
   "metadata": {},
   "outputs": [
    {
     "data": {
      "text/plain": [
       "[]"
      ]
     },
     "execution_count": 23,
     "metadata": {},
     "output_type": "execute_result"
    }
   ],
   "source": [
    "friends = [\"Mary\", \"Smith\", \"Adah\", \"Barry\"]\n",
    "lucky_numbers = [23, 56, 12, 5, 20, 55, 9, 6]\n",
    "friends.extend(lucky_numbers)\n",
    "friends.insert(1, \"Blessing\")\n",
    "friends.clear()\n",
    "friends"
   ]
  },
  {
   "cell_type": "code",
   "execution_count": 26,
   "metadata": {},
   "outputs": [
    {
     "data": {
      "text/plain": [
       "['Mary', 'Blessing', 'Smith', 'Adah', 'Barry', 23, 56, 12, 5, 20, 55, 9]"
      ]
     },
     "execution_count": 26,
     "metadata": {},
     "output_type": "execute_result"
    }
   ],
   "source": [
    "friends = [\"Mary\", \"Smith\", \"Adah\", \"Barry\"]\n",
    "lucky_numbers = [23, 56, 12, 5, 20, 55, 9, 6]\n",
    "friends.extend(lucky_numbers)\n",
    "friends.insert(1, \"Blessing\")\n",
    "#Pops\n",
    "friends.pop()\n",
    "friends"
   ]
  },
  {
   "cell_type": "code",
   "execution_count": 29,
   "metadata": {},
   "outputs": [
    {
     "data": {
      "text/plain": [
       "0"
      ]
     },
     "execution_count": 29,
     "metadata": {},
     "output_type": "execute_result"
    }
   ],
   "source": [
    "friends = [\"Mary\", \"Smith\", \"Adah\", \"Blessing\" \"Barry\"]\n",
    "lucky_numbers = [23, 56, 12, 5, 20, 55, 9, 6]\n",
    "friends.extend(lucky_numbers)\n",
    "friends.insert(1, \"Blessing\")\n",
    "friends.index(\"Mary\")\n"
   ]
  },
  {
   "cell_type": "code",
   "execution_count": 34,
   "metadata": {},
   "outputs": [
    {
     "data": {
      "text/plain": [
       "2"
      ]
     },
     "execution_count": 34,
     "metadata": {},
     "output_type": "execute_result"
    }
   ],
   "source": [
    "friends = [\"Mary\", \"Smith\", \"Adah\", \"Blessing\", \"Barry\"]\n",
    "lucky_numbers = [23, 56, 12, 5, 20, 55, 9, 6]\n",
    "friends.extend(lucky_numbers)\n",
    "friends.insert(1, \"Blessing\")\n",
    "friends.count(\"Blessing\")\n"
   ]
  },
  {
   "cell_type": "code",
   "execution_count": 41,
   "metadata": {},
   "outputs": [
    {
     "data": {
      "text/plain": [
       "['Adah', 'Barry', 'Blessing', 'Mary', 'Smith']"
      ]
     },
     "execution_count": 41,
     "metadata": {},
     "output_type": "execute_result"
    }
   ],
   "source": [
    "friends = [\"Mary\", \"Smith\", \"Adah\", \"Blessing\", \"Barry\"]\n",
    "friends.sort()\n",
    "friends\n"
   ]
  },
  {
   "cell_type": "code",
   "execution_count": 43,
   "metadata": {},
   "outputs": [
    {
     "data": {
      "text/plain": [
       "['Adah', 'Barry', 'Blessing', 'Mary', 'Smith']"
      ]
     },
     "execution_count": 43,
     "metadata": {},
     "output_type": "execute_result"
    }
   ],
   "source": [
    "friends = [\"Mary\", \"Smith\", \"Adah\", \"Blessing\", \"Barry\"]\n",
    "sorted(friends)"
   ]
  },
  {
   "cell_type": "code",
   "execution_count": 44,
   "metadata": {},
   "outputs": [
    {
     "data": {
      "text/plain": [
       "['Barry', 'Blessing', 'Adah', 'Smith', 'Mary']"
      ]
     },
     "execution_count": 44,
     "metadata": {},
     "output_type": "execute_result"
    }
   ],
   "source": [
    "friends = [\"Mary\", \"Smith\", \"Adah\", \"Blessing\", \"Barry\"]\n",
    "friends.reverse()\n",
    "friends"
   ]
  },
  {
   "cell_type": "code",
   "execution_count": 48,
   "metadata": {},
   "outputs": [
    {
     "name": "stdout",
     "output_type": "stream",
     "text": [
      "['Mary', 'Smith', 'Adah', 'Blessing', 'Barry']\n",
      "['Mary', 'Smith', 'Adah', 'Blessing', 'Barry']\n"
     ]
    }
   ],
   "source": [
    "friends = [\"Mary\", \"Smith\", \"Adah\", \"Blessing\", \"Barry\"]\n",
    "friends2 = friends.copy()\n",
    "print(friends)\n",
    "print(friends2)"
   ]
  },
  {
   "cell_type": "code",
   "execution_count": null,
   "metadata": {},
   "outputs": [],
   "source": []
  }
 ],
 "metadata": {
  "kernelspec": {
   "display_name": "Python 3.10.4 64-bit",
   "language": "python",
   "name": "python3"
  },
  "language_info": {
   "codemirror_mode": {
    "name": "ipython",
    "version": 3
   },
   "file_extension": ".py",
   "mimetype": "text/x-python",
   "name": "python",
   "nbconvert_exporter": "python",
   "pygments_lexer": "ipython3",
   "version": "3.10.4"
  },
  "orig_nbformat": 4,
  "vscode": {
   "interpreter": {
    "hash": "2d487116a31eb3ceb7b1a12e6d10885428bcb41492e68b3710237587f2151dbc"
   }
  }
 },
 "nbformat": 4,
 "nbformat_minor": 2
}

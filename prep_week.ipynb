{
 "cells": [
  {
   "cell_type": "code",
   "execution_count": null,
   "metadata": {},
   "outputs": [],
   "source": [
    "num1 = int(input(\"Type here\"))\n",
    "num2 = int(input(\"Type here\"))\n",
    "result = num1 + num2\n",
    "print(result)"
   ]
  },
  {
   "cell_type": "code",
   "execution_count": null,
   "metadata": {},
   "outputs": [],
   "source": [
    "num1 = float(input(\"Type here\"))\n",
    "num2 = float(input(\"Type here\"))\n",
    "result = num1 + num2\n",
    "print(result)"
   ]
  },
  {
   "cell_type": "code",
   "execution_count": null,
   "metadata": {},
   "outputs": [],
   "source": [
    "color = input(\"Enter a color: \")\n",
    "Plural_noun = input(\"Enter a plural noun: \")\n",
    "celebrity = input(\"Enter a celebrity: \")\n",
    "\n",
    "print(f\"Roses are {color}\")\n",
    "print(f\"{Plural_noun} are blue\")\n",
    "print(f\"I love {celebrity}.upper()\")"
   ]
  },
  {
   "cell_type": "code",
   "execution_count": 1,
   "metadata": {},
   "outputs": [
    {
     "name": "stdout",
     "output_type": "stream",
     "text": [
      "Valentine\n"
     ]
    }
   ],
   "source": [
    "berry = [\"Mary\", \"Smith\", \"Adah\", \"Barry\"]\n",
    "berry[-1] = \"Valentine\"\n",
    "print(berry[-1])"
   ]
  },
  {
   "cell_type": "code",
   "execution_count": null,
   "metadata": {},
   "outputs": [],
   "source": [
    "friends = [\"Mary\", \"Smith\", \"Adah\", \"Barry\"]\n",
    "lucky_numbers = [23, 56, 12, 5, 20, 55, 9, 6]\n",
    "friends.extend(lucky_numbers)\n",
    "friends"
   ]
  },
  {
   "cell_type": "code",
   "execution_count": null,
   "metadata": {},
   "outputs": [],
   "source": [
    "friends = [\"Mary\", \"Smith\", \"Adah\", \"Barry\"]\n",
    "lucky_numbers = [23, 56, 12, 5, 20, 55, 9, 6]\n",
    "friends.append(\"Ugoo\")\n",
    "sorted(friends)"
   ]
  },
  {
   "cell_type": "code",
   "execution_count": null,
   "metadata": {},
   "outputs": [],
   "source": [
    "friends = [\"Mary\", \"Smith\", \"Adah\", \"Barry\"]\n",
    "lucky_numbers = [23, 56, 12, 5, 20, 55, 9, 6]\n",
    "friends.extend(lucky_numbers)\n",
    "friends.insert(1, \"Blessing\")\n",
    "friends"
   ]
  },
  {
   "cell_type": "code",
   "execution_count": null,
   "metadata": {},
   "outputs": [],
   "source": [
    "friends = [\"Mary\", \"Smith\", \"Adah\", \"Barry\"]\n",
    "lucky_numbers = [23, 56, 12, 5, 20, 55, 9, 6]\n",
    "friends.extend(lucky_numbers)\n",
    "friends.insert(1, \"Blessing\")\n",
    "friends.remove(\"Blessing\")\n",
    "friends"
   ]
  },
  {
   "cell_type": "code",
   "execution_count": null,
   "metadata": {},
   "outputs": [],
   "source": [
    "friends = [\"Mary\", \"Smith\", \"Adah\", \"Barry\"]\n",
    "lucky_numbers = [23, 56, 12, 5, 20, 55, 9, 6]\n",
    "friends.extend(lucky_numbers)\n",
    "friends.insert(1, \"Blessing\")\n",
    "friends.clear()\n",
    "friends"
   ]
  },
  {
   "cell_type": "code",
   "execution_count": null,
   "metadata": {},
   "outputs": [],
   "source": [
    "friends = [\"Mary\", \"Smith\", \"Adah\", \"Barry\"]\n",
    "lucky_numbers = [23, 56, 12, 5, 20, 55, 9, 6]\n",
    "friends.extend(lucky_numbers)\n",
    "friends.insert(1, \"Blessing\")\n",
    "#Pops\n",
    "friends.pop()\n",
    "friends"
   ]
  },
  {
   "cell_type": "code",
   "execution_count": null,
   "metadata": {},
   "outputs": [],
   "source": [
    "friends = [\"Mary\", \"Smith\", \"Adah\", \"Blessing\" \"Barry\"]\n",
    "lucky_numbers = [23, 56, 12, 5, 20, 55, 9, 6]\n",
    "friends.extend(lucky_numbers)\n",
    "friends.insert(1, \"Blessing\")\n",
    "friends.index(\"Mary\")\n"
   ]
  },
  {
   "cell_type": "code",
   "execution_count": null,
   "metadata": {},
   "outputs": [],
   "source": [
    "friends = [\"Mary\", \"Smith\", \"Adah\", \"Blessing\", \"Barry\"]\n",
    "lucky_numbers = [23, 56, 12, 5, 20, 55, 9, 6]\n",
    "friends.extend(lucky_numbers)\n",
    "friends.insert(1, \"Blessing\")\n",
    "friends.count(\"Blessing\")\n"
   ]
  },
  {
   "cell_type": "code",
   "execution_count": null,
   "metadata": {},
   "outputs": [],
   "source": [
    "friends = [\"Mary\", \"Smith\", \"Adah\", \"Blessing\", \"Barry\"]\n",
    "friends.sort()\n",
    "friends\n"
   ]
  },
  {
   "cell_type": "code",
   "execution_count": null,
   "metadata": {},
   "outputs": [],
   "source": [
    "friends = [\"Mary\", \"Smith\", \"Adah\", \"Blessing\", \"Barry\"]\n",
    "sorted(friends)"
   ]
  },
  {
   "cell_type": "code",
   "execution_count": null,
   "metadata": {},
   "outputs": [],
   "source": [
    "friends = [\"Mary\", \"Smith\", \"Adah\", \"Blessing\", \"Barry\"]\n",
    "friends.reverse()\n",
    "friends"
   ]
  },
  {
   "cell_type": "code",
   "execution_count": null,
   "metadata": {},
   "outputs": [],
   "source": [
    "friends = [\"Mary\", \"Smith\", \"Adah\", \"Blessing\", \"Barry\"]\n",
    "friends2 = friends.copy()\n",
    "print(friends)\n",
    "print(friends2)"
   ]
  },
  {
   "cell_type": "code",
   "execution_count": null,
   "metadata": {},
   "outputs": [],
   "source": [
    "coordinates = [(50, 10), (34, 65), (90.12)]\n",
    "coordinates[1]"
   ]
  },
  {
   "cell_type": "code",
   "execution_count": null,
   "metadata": {},
   "outputs": [],
   "source": [
    "def sayhi():\n",
    "    print(\"Hello World\")\n",
    "print(\"Top\")\n",
    "sayhi()\n",
    "print(\"Bottom\")"
   ]
  },
  {
   "cell_type": "code",
   "execution_count": null,
   "metadata": {},
   "outputs": [],
   "source": [
    "def sayhi(name, age):\n",
    "    print(\"Hello World \" + name + \". You are \" + str(age))\n",
    "    \n",
    "sayhi(\"Mike Smith\", 40) \n",
    "sayhi(\"Ada Jesus\", 25)"
   ]
  },
  {
   "cell_type": "code",
   "execution_count": null,
   "metadata": {},
   "outputs": [],
   "source": [
    "def cube (num):\n",
    "    return num * num * num\n",
    "\n",
    "cube(3)  "
   ]
  },
  {
   "cell_type": "code",
   "execution_count": null,
   "metadata": {},
   "outputs": [],
   "source": [
    "def cube (num):\n",
    "    return num * num * num\n",
    "result = cube(4)\n",
    "print(result)"
   ]
  },
  {
   "cell_type": "code",
   "execution_count": null,
   "metadata": {},
   "outputs": [],
   "source": [
    "is_male = True\n",
    "if is_male is True:\n",
    "    print(\"You are a male\")"
   ]
  },
  {
   "cell_type": "code",
   "execution_count": null,
   "metadata": {},
   "outputs": [],
   "source": [
    "is_male = True\n",
    "if is_male:\n",
    "    print(\"You are a male\")"
   ]
  },
  {
   "cell_type": "code",
   "execution_count": null,
   "metadata": {},
   "outputs": [],
   "source": [
    "is_male = False\n",
    "if is_male:\n",
    "    print(\"You are a male\")"
   ]
  },
  {
   "cell_type": "code",
   "execution_count": null,
   "metadata": {},
   "outputs": [],
   "source": [
    "is_male = False\n",
    "if is_male:\n",
    "    print(\"You are a male\")\n",
    "else: \n",
    "    print(\"You are not a male. You are a female\")"
   ]
  },
  {
   "cell_type": "code",
   "execution_count": null,
   "metadata": {},
   "outputs": [],
   "source": [
    "is_male = True\n",
    "is_tall = True\n",
    "\n",
    "if is_male or is_tall:\n",
    "    print(\"You are a male or tall or both\")\n",
    "else:\n",
    "    print(\"You are neither tall or male\")"
   ]
  },
  {
   "cell_type": "code",
   "execution_count": null,
   "metadata": {},
   "outputs": [],
   "source": [
    "is_male = True\n",
    "is_tall = False\n",
    "\n",
    "if is_male or is_tall:\n",
    "    print(\"You are a male or tall or both\")\n",
    "else:\n",
    "    print(\"You are neither tall or male\")"
   ]
  },
  {
   "cell_type": "code",
   "execution_count": null,
   "metadata": {},
   "outputs": [],
   "source": [
    "is_male = False\n",
    "is_tall = False\n",
    "\n",
    "if is_male or is_tall:\n",
    "    print(\"You are a male or tall or both\")\n",
    "else:\n",
    "    print(\"You are neither tall or male\")"
   ]
  },
  {
   "cell_type": "code",
   "execution_count": null,
   "metadata": {},
   "outputs": [],
   "source": [
    "is_male = True\n",
    "is_tall = False\n",
    "\n",
    "if is_male and is_tall:\n",
    "    print(\"You are a male and tall or both\")\n",
    "else:\n",
    "    print(\"You are not tall and male\")"
   ]
  },
  {
   "cell_type": "code",
   "execution_count": null,
   "metadata": {},
   "outputs": [],
   "source": [
    "is_male = False\n",
    "is_tall = False\n",
    "\n",
    "if is_male and is_tall:\n",
    "    print(\"You are a male and tall or both\")\n",
    "else:\n",
    "    print(\"You are not tall and male\")"
   ]
  },
  {
   "cell_type": "code",
   "execution_count": null,
   "metadata": {},
   "outputs": [],
   "source": [
    "is_male = True\n",
    "is_tall = True\n",
    "\n",
    "if is_male and is_tall:\n",
    "    print(\"You are a male and tall or both\")\n",
    "else:\n",
    "    print(\"You are not tall and male\")"
   ]
  },
  {
   "cell_type": "code",
   "execution_count": null,
   "metadata": {},
   "outputs": [],
   "source": [
    "is_male = True\n",
    "is_tall = False\n",
    "\n",
    "if is_male and is_tall:\n",
    "    print(\"You are a male and tall or both\")\n",
    "elif is_male and not is_tall:\n",
    "    print(\"Yes, he is male and not tall\")\n",
    "else:\n",
    "    print(\"You are not tall and male\")"
   ]
  },
  {
   "cell_type": "code",
   "execution_count": null,
   "metadata": {},
   "outputs": [],
   "source": [
    "is_male = False\n",
    "is_tall = True\n",
    "\n",
    "if is_male and is_tall:\n",
    "    print(\"You are a male and tall or both\")\n",
    "elif is_male and not is_tall:\n",
    "    print(\"Yes, he is male and not tall\")\n",
    "elif not is_male and is_tall:\n",
    "    print(\"Yes, he is not male and  tall\")\n",
    "else:\n",
    "    print(\"You are not tall and male\")"
   ]
  },
  {
   "cell_type": "code",
   "execution_count": null,
   "metadata": {},
   "outputs": [],
   "source": [
    "is_male = False\n",
    "is_tall = True\n",
    "\n",
    "if is_male and is_tall:\n",
    "    print(\"You are a male and tall or both\")\n",
    "elif is_male and not (is_tall):\n",
    "    print(\"Yes, he is male and not tall\")\n",
    "elif not (is_male) and is_tall:\n",
    "    print(\"Yes, he is not male and tall\")\n",
    "else:\n",
    "    print(\"You are not tall and male\")"
   ]
  },
  {
   "cell_type": "code",
   "execution_count": null,
   "metadata": {},
   "outputs": [],
   "source": [
    "def max_num(num1, num2, num3):\n",
    "    if num1 >= num2 and num1 >= num3:\n",
    "        return num1\n",
    "    elif num2 >= num1 and num2 >= num3:\n",
    "        return num2\n",
    "    else:\n",
    "        return num3\n",
    "print(max_num(3,4,5))\n",
    "print(max_num(6,14,3))"
   ]
  },
  {
   "cell_type": "code",
   "execution_count": null,
   "metadata": {},
   "outputs": [],
   "source": [
    "num1 = float(input(\"Enter a number: \"))\n",
    "op = input(\"Enter an operator: \")\n",
    "num2 = float(input(\"Enter another number: \"))\n",
    "\n",
    "if op == \"+\":\n",
    "    print(num1 + num2)\n",
    "elif op == \"-\":\n",
    "    print(num1 - num2)\n",
    "elif op == \"*\":\n",
    "    print(num1 *num2)\n",
    "elif op == \"/\":\n",
    "    print(num1 / num2)\n",
    "else:\n",
    "    print(\"Please, use the right operator\")\n"
   ]
  },
  {
   "cell_type": "code",
   "execution_count": null,
   "metadata": {},
   "outputs": [],
   "source": [
    "monthsconversion = {\n",
    "    \"Jan\" : \"January\",\n",
    "    \"Feb\" : \"February\",\n",
    "    \"Mar\" : \"March\",\n",
    "    \"Apr\" : \"April\"\n",
    "}\n",
    "print(monthsconversion[\"Mar\"])"
   ]
  },
  {
   "cell_type": "code",
   "execution_count": null,
   "metadata": {},
   "outputs": [],
   "source": [
    "monthsconversion = {\n",
    "    \"Jan\" : \"January\",\n",
    "    \"Feb\" : \"February\",\n",
    "    \"Mar\" : \"March\",\n",
    "    \"Apr\" : \"April\"\n",
    "}\n",
    "print(monthsconversion.get(\"Feb\"))"
   ]
  },
  {
   "cell_type": "code",
   "execution_count": null,
   "metadata": {},
   "outputs": [],
   "source": [
    "monthsconversion = {\n",
    "    \"Jan\" : \"January\",\n",
    "    \"Feb\" : \"February\",\n",
    "    \"Mar\" : \"March\",\n",
    "    \"Apr\" : \"April\"\n",
    "}\n",
    "print(monthsconversion.get(\"Febu\"))"
   ]
  },
  {
   "cell_type": "code",
   "execution_count": null,
   "metadata": {},
   "outputs": [],
   "source": [
    "monthsconversion = {\n",
    "    \"Jan\" : \"January\",\n",
    "    \"Feb\" : \"February\",\n",
    "    \"Mar\" : \"March\",\n",
    "    \"Apr\" : \"April\"\n",
    "}\n",
    "print(monthsconversion.get(\"Febu\", \"Not a valid month\"))"
   ]
  },
  {
   "cell_type": "code",
   "execution_count": 118,
   "metadata": {},
   "outputs": [
    {
     "name": "stdout",
     "output_type": "stream",
     "text": [
      "1\n",
      "2\n",
      "3\n",
      "4\n",
      "5\n",
      "6\n",
      "7\n",
      "8\n",
      "9\n",
      "10\n",
      "We are done with the loop now\n"
     ]
    }
   ],
   "source": [
    "i = 1\n",
    "while i <= 10:\n",
    "    print(i)\n",
    "    i += 1\n",
    "print(\"We are done with the loop now\")"
   ]
  },
  {
   "cell_type": "code",
   "execution_count": 121,
   "metadata": {},
   "outputs": [
    {
     "name": "stdout",
     "output_type": "stream",
     "text": [
      "Super\n",
      "Wow, the guessed word; uloma is accurate. Congratulations!\n"
     ]
    }
   ],
   "source": [
    "secret_word = \"Uloma\"\n",
    "main_secret = secret_word.lower()\n",
    "\n",
    "guess = \"\"\n",
    "while guess != main_secret:\n",
    "    guess = input(\"Guess a secret word here: \")\n",
    "    guess.lower()\n",
    "    print(\"Super\")\n",
    "print(f\"Wow, the guessed word; {guess} is accurate. Congratulations!\")"
   ]
  },
  {
   "cell_type": "code",
   "execution_count": 126,
   "metadata": {},
   "outputs": [
    {
     "name": "stdout",
     "output_type": "stream",
     "text": [
      "Sorry, you loose. You have guesses more times\n"
     ]
    }
   ],
   "source": [
    "secret_word = \"Uloma\"\n",
    "\n",
    "guess = \"\"\n",
    "guess_count = 0\n",
    "guess_limit = 3\n",
    "out_of_guess = False\n",
    "\n",
    "while guess != main_secret and not out_of_guess:\n",
    "    if guess_count < guess_limit:\n",
    "        guess = input(\"Guess a secret word here: \")\n",
    "        guess_count += 1\n",
    "    else: \n",
    "        out_of_guess = True\n",
    "\n",
    "if  out_of_guess is True:       \n",
    "    print(f\"Sorry, you loose. You have guessed more times\")\n",
    "else:\n",
    "    print(f\"Wow, the guessed word; {guess} is accurate. Congratulations!\")"
   ]
  },
  {
   "cell_type": "code",
   "execution_count": null,
   "metadata": {},
   "outputs": [],
   "source": []
  }
 ],
 "metadata": {
  "kernelspec": {
   "display_name": "Python 3.10.4 64-bit",
   "language": "python",
   "name": "python3"
  },
  "language_info": {
   "codemirror_mode": {
    "name": "ipython",
    "version": 3
   },
   "file_extension": ".py",
   "mimetype": "text/x-python",
   "name": "python",
   "nbconvert_exporter": "python",
   "pygments_lexer": "ipython3",
   "version": "3.10.4"
  },
  "orig_nbformat": 4,
  "vscode": {
   "interpreter": {
    "hash": "2d487116a31eb3ceb7b1a12e6d10885428bcb41492e68b3710237587f2151dbc"
   }
  }
 },
 "nbformat": 4,
 "nbformat_minor": 2
}
